{
 "cells": [
  {
   "cell_type": "code",
   "execution_count": 31,
   "id": "32018490",
   "metadata": {},
   "outputs": [],
   "source": [
    "# import packages\n",
    "import numpy as np\n",
    "import pandas as pd\n",
    "from sklearn.preprocessing import MinMaxScaler\n",
    "from sklearn.model_selection import KFold\n",
    "from sklearn.linear_model import LinearRegression, Lasso, Ridge, ElasticNet\n",
    "from sklearn.metrics import r2_score, mean_squared_error"
   ]
  },
  {
   "cell_type": "code",
   "execution_count": 32,
   "id": "b70a2ab4",
   "metadata": {},
   "outputs": [
    {
     "data": {
      "text/html": [
       "<div>\n",
       "<style scoped>\n",
       "    .dataframe tbody tr th:only-of-type {\n",
       "        vertical-align: middle;\n",
       "    }\n",
       "\n",
       "    .dataframe tbody tr th {\n",
       "        vertical-align: top;\n",
       "    }\n",
       "\n",
       "    .dataframe thead th {\n",
       "        text-align: right;\n",
       "    }\n",
       "</style>\n",
       "<table border=\"1\" class=\"dataframe\">\n",
       "  <thead>\n",
       "    <tr style=\"text-align: right;\">\n",
       "      <th></th>\n",
       "      <th>0</th>\n",
       "    </tr>\n",
       "  </thead>\n",
       "  <tbody>\n",
       "    <tr>\n",
       "      <th>0</th>\n",
       "      <td>&gt;seq1</td>\n",
       "    </tr>\n",
       "    <tr>\n",
       "      <th>1</th>\n",
       "      <td>NA,-0.94,3.38,-1.84,-3.13,-0.64,2.31,-1.33,-1....</td>\n",
       "    </tr>\n",
       "    <tr>\n",
       "      <th>2</th>\n",
       "      <td>-2.00,-1.31,2.00,-1.59,NA</td>\n",
       "    </tr>\n",
       "    <tr>\n",
       "      <th>3</th>\n",
       "      <td>&gt;seq2</td>\n",
       "    </tr>\n",
       "    <tr>\n",
       "      <th>4</th>\n",
       "      <td>NA,-2.40,5.15,-2.02,-1.80,2.87,-1.80,-1.59,2.7...</td>\n",
       "    </tr>\n",
       "    <tr>\n",
       "      <th>...</th>\n",
       "      <td>...</td>\n",
       "    </tr>\n",
       "    <tr>\n",
       "      <th>20773</th>\n",
       "      <td>NA,-0.96,-2.33,-3.17,-1.31,4.06,-2.36,5.72,-3....</td>\n",
       "    </tr>\n",
       "    <tr>\n",
       "      <th>20774</th>\n",
       "      <td>-5.13,-3.42,-2.87,-0.38,NA</td>\n",
       "    </tr>\n",
       "    <tr>\n",
       "      <th>20775</th>\n",
       "      <td>&gt;seq6926</td>\n",
       "    </tr>\n",
       "    <tr>\n",
       "      <th>20776</th>\n",
       "      <td>NA,-1.93,-0.96,-1.89,-3.00,-2.58,-2.21,-1.79,-...</td>\n",
       "    </tr>\n",
       "    <tr>\n",
       "      <th>20777</th>\n",
       "      <td>-2.04,-2.41,-1.97,3.68,NA</td>\n",
       "    </tr>\n",
       "  </tbody>\n",
       "</table>\n",
       "<p>20778 rows × 1 columns</p>\n",
       "</div>"
      ],
      "text/plain": [
       "                                                       0\n",
       "0                                                  >seq1\n",
       "1      NA,-0.94,3.38,-1.84,-3.13,-0.64,2.31,-1.33,-1....\n",
       "2                              -2.00,-1.31,2.00,-1.59,NA\n",
       "3                                                  >seq2\n",
       "4      NA,-2.40,5.15,-2.02,-1.80,2.87,-1.80,-1.59,2.7...\n",
       "...                                                  ...\n",
       "20773  NA,-0.96,-2.33,-3.17,-1.31,4.06,-2.36,5.72,-3....\n",
       "20774                         -5.13,-3.42,-2.87,-0.38,NA\n",
       "20775                                           >seq6926\n",
       "20776  NA,-1.93,-0.96,-1.89,-3.00,-2.58,-2.21,-1.79,-...\n",
       "20777                          -2.04,-2.41,-1.97,3.68,NA\n",
       "\n",
       "[20778 rows x 1 columns]"
      ]
     },
     "execution_count": 32,
     "metadata": {},
     "output_type": "execute_result"
    }
   ],
   "source": [
    "# import files\n",
    "# import mad \n",
    "#shapeData\n",
    "file_path = '/Users/peytonhall/documents/2024_courses/pbhall_qbio_460/mad.fa.HelT'\n",
    "madHelT = pd.read_csv(file_path, sep='\\t', header=None)\n",
    "madHelT\n",
    "\n",
    "file_path = '/Users/peytonhall/documents/2024_courses/pbhall_qbio_460/mad.fa.MGW'\n",
    "madMGW = pd.read_csv(file_path, sep='\\t', header=None)\n",
    "madMGW\n",
    "\n",
    "file_path = '/Users/peytonhall/documents/2024_courses/pbhall_qbio_460/mad.fa.ProT'\n",
    "madProT = pd.read_csv(file_path, sep='\\t', header=None)\n",
    "madProT\n",
    "\n",
    "file_path = '/Users/peytonhall/documents/2024_courses/pbhall_qbio_460/mad.fa.Roll'\n",
    "madRoll = pd.read_csv(file_path, sep='\\t', header=None)\n",
    "madRoll\n",
    "\n",
    "# import max\n",
    "file_path = '/Users/peytonhall/documents/2024_courses/pbhall_qbio_460/max.fa.HelT'\n",
    "maxHelT = pd.read_csv(file_path, sep='\\t', header=None)\n",
    "maxHelT\n",
    "\n",
    "file_path = '/Users/peytonhall/documents/2024_courses/pbhall_qbio_460/max.fa.MGW'\n",
    "maxMGW = pd.read_csv(file_path, sep='\\t', header=None)\n",
    "maxMGW\n",
    "\n",
    "file_path = '/Users/peytonhall/documents/2024_courses/pbhall_qbio_460/max.fa.ProT'\n",
    "maxProT = pd.read_csv(file_path, sep='\\t', header=None)\n",
    "maxProT\n",
    "\n",
    "file_path = '/Users/peytonhall/documents/2024_courses/pbhall_qbio_460/max.fa.Roll.txt'\n",
    "maxRoll = pd.read_csv(file_path, sep='\\t', header=None)\n",
    "maxRoll\n",
    "\n",
    "# import myc\n",
    "file_path = '/Users/peytonhall/documents/2024_courses/pbhall_qbio_460/myc.fa.HelT'\n",
    "mycHelT = pd.read_csv(file_path, sep='\\t', header=None)\n",
    "mycHelT\n",
    "\n",
    "file_path = '/Users/peytonhall/documents/2024_courses/pbhall_qbio_460/myc.fa.MGW'\n",
    "mycMGW = pd.read_csv(file_path, sep='\\t', header=None)\n",
    "mycMGW\n",
    "\n",
    "file_path = '/Users/peytonhall/documents/2024_courses/pbhall_qbio_460/myc.fa.ProT'\n",
    "mycProT = pd.read_csv(file_path, sep='\\t', header=None)\n",
    "mycProT\n",
    "\n",
    "file_path = '/Users/peytonhall/documents/2024_courses/pbhall_qbio_460/myc.fa.Roll'\n",
    "mycRoll = pd.read_csv(file_path, sep='\\t', header=None)\n",
    "mycRoll"
   ]
  },
  {
   "cell_type": "code",
   "execution_count": 73,
   "id": "ed92960a",
   "metadata": {},
   "outputs": [],
   "source": [
    "# import sequences\n",
    "\n",
    "# madSeq = '/Users/peytonhall/documents/seq2/Mad (1).txt'\n",
    "# madSeq = pd.read_csv(file_path, sep='', header=None)\n",
    "# print(madSeq)\n",
    "\n",
    "# pull sequences from mad\n",
    "with open('/Users/peytonhall/documents/seq2/Mad (1).txt', 'r') as f:\n",
    "    for line in f:\n",
    "        madSeq = line.split()[0]  # get sequences \n",
    "\n",
    "# pull sequences from max\n",
    "with open('/Users/peytonhall/documents/seq2/Max (1).txt', 'r') as fi:\n",
    "    for line in fi:\n",
    "        maxSeq = line.split()[0]  # get sequences \n",
    "\n",
    "\n",
    "# pull sequences from myc\n",
    "with open('/Users/peytonhall/documents/seq2/Myc (1).txt', 'r') as fil:\n",
    "    for line in fil:\n",
    "        mycSeq = line.split()[0]  # get sequences \n"
   ]
  },
  {
   "cell_type": "code",
   "execution_count": 33,
   "id": "a94e9121",
   "metadata": {},
   "outputs": [
    {
     "name": "stdout",
     "output_type": "stream",
     "text": [
      "[['>seq1']\n",
      " ['NA,NA,5.02,5.33,5.50,5.27,5.50,5.40,4.36,4.03,4.17,4.53,5.46,5.56,4.42,4.37,5.18,5.13,5.29,5.64,5.38,4.33,4.06,4.05,4.76,5.41,5.78,5.79,5.67,5.27']\n",
      " ['5.08,5.45,4.52,4.14,NA,NA']\n",
      " ...\n",
      " ['>seq6926']\n",
      " ['NA,NA,-2.56,-4.60,-5.75,-0.03,-1.32,-2.13,-2.89,-3.13,-2.75,-1.95,-2.13,-1.93,-2.54,-4.03,-7.87,-7.98,-3.93,-1.72,-6.76,-3.85,-4.13,-2.75,-2.73,-1.93,-1.93,-2.73,-3.26,-3.26']\n",
      " ['-2.73,-1.93,-2.54,-3.12,NA,NA']]\n"
     ]
    }
   ],
   "source": [
    "# # make arrays for Minor Groove Width, Propeller Twist, Roll, Helical Twist\n",
    "# # for mad, max, myc\n",
    "\n",
    "# rollHelShape = np.vstack((madHelT, madRoll, maxHelT, maxRoll, mycHelT, mycRoll))\n",
    "\n",
    "# mGWProShape = np.vstack((madMGW, madProT, maxMGW, maxProT, mycMGW, mycProT))\n",
    "# # print(rollHelShape)\n",
    "\n",
    "# print(mGWProShape)"
   ]
  },
  {
   "cell_type": "code",
   "execution_count": 106,
   "id": "c359b945",
   "metadata": {},
   "outputs": [],
   "source": [
    "# make arrays for Minor Groove Width, Propeller Twist, Roll, Helical Twist\n",
    "# mad\n",
    "rollHelMad = np.vstack((madHelT, madRoll))\n",
    "mGWProMad = np.vstack((madMGW, madProT))\n",
    "print(rollH)"
   ]
  },
  {
   "cell_type": "code",
   "execution_count": 107,
   "id": "02604a0a",
   "metadata": {},
   "outputs": [],
   "source": [
    "# max\n",
    "rollHelMax = np.vstack((maxHelT, maxRoll))\n",
    "mGWProMax = np.vstack((maxMGW, maxProT))"
   ]
  },
  {
   "cell_type": "code",
   "execution_count": 108,
   "id": "026f67da",
   "metadata": {},
   "outputs": [],
   "source": [
    "# myc\n",
    "rollHelMyc = np.vstack((mycHelT, mycRoll))\n",
    "mGWProMyc = np.vstack((mycMGW, mycProT))"
   ]
  },
  {
   "cell_type": "code",
   "execution_count": 109,
   "id": "02b4a6f6",
   "metadata": {},
   "outputs": [],
   "source": [
    "def cleanRollHel(rollOrHel):\n",
    "    cleaned_list = []\n",
    "    # Flatten the array and process each item\n",
    "    for item in rollOrHel.flatten():\n",
    "        # Convert the item to a string and split by lines\n",
    "        lines = str(item).splitlines()\n",
    "        for line in lines:\n",
    "            line = line.strip()  # Clean up whitespace\n",
    "            if line.startswith(\">\"):\n",
    "                continue  # Skip sequence headers\n",
    "            # Split the line by commas\n",
    "            values = line.split(\",\")\n",
    "            # Process the middle values (skip the first and last)\n",
    "            for v in values[1:-1]:  # Skip the first and last NA\n",
    "                if v != \"NA\":  # Only add non-NA values\n",
    "                    cleaned_list.append(float(v))\n",
    "#             # Check if the last value is NA\n",
    "#             if values[-2] == \"NA\":\n",
    "#                 cleaned_list.append(\"NA\")  # Keep the last NA\n",
    "    return cleaned_list"
   ]
  },
  {
   "cell_type": "code",
   "execution_count": 110,
   "id": "7cfebe37",
   "metadata": {},
   "outputs": [],
   "source": [
    "def cleanMgPro(mgwOrProT):\n",
    "    cleaned_list = []\n",
    "    # Flatten the array and process each item\n",
    "    for item in mgwOrProT.flatten():\n",
    "        # Convert the item to a string and split by lines\n",
    "        lines = str(item).splitlines()\n",
    "        for line in lines:\n",
    "            line = line.strip()  # Clean up whitespace\n",
    "            if line.startswith(\">\"):\n",
    "                continue  # Skip sequence headers\n",
    "            # Split the line by commas\n",
    "            values = line.split(\",\")\n",
    "            # Process the middle values (skip the first and last)\n",
    "            for v in values[1:-2]:  # Skip the first and last NA\n",
    "                if v != \"NA\":  # Only add non-NA values\n",
    "                    cleaned_list.append(float(v))\n",
    "#             # Check if the last value is NA\n",
    "#             if values[-2] == \"NA\":\n",
    "#                 cleaned_list.append(\"NA\")  # Keep the last NA\n",
    "    return cleaned_list"
   ]
  },
  {
   "cell_type": "code",
   "execution_count": 111,
   "id": "dcb792e9",
   "metadata": {},
   "outputs": [],
   "source": [
    "# cleanedRoll = cleanRollHel(rollHelShape)\n",
    "# # USE THIS: \n",
    "# cleanedRollRay = np.array(cleanedRoll)\n",
    "# print(cleanedRollRay)\n",
    "\n",
    "# clean mad \n",
    "cleanedMadRoll = cleanMgPro(rollHelMad)\n",
    "cleanedMadMgPro = cleanRollHel(mGWProMad)\n",
    "\n",
    "# # clean max\n",
    "# cleanedMaxRoll = cleanMgPro(rollHelMax)\n",
    "\n",
    "# # clean myc\n",
    "# cleanedMycRoll = cleanMgPro(rollHelMyc)\n"
   ]
  },
  {
   "cell_type": "code",
   "execution_count": 115,
   "id": "7e1602d4",
   "metadata": {},
   "outputs": [
    {
     "data": {
      "text/plain": [
       "array([['>seq1'],\n",
       "       ['NA,33.82,36.28,34.74,31.64,35.02,35.14,35.91,36.33,32.65,37.68,33.23,34.23,34.12,35.09,31.49,35.45,33.84,33.65,34.18,34.63,35.73,36.65,37.03,35.40,34.48,35.56,34.50,31.26,36.80'],\n",
       "       ['34.39,34.91,33.12,34.91,NA'],\n",
       "       ...,\n",
       "       ['>seq7534'],\n",
       "       ['NA,-3.44,5.48,0.33,-2.65,-3.97,-3.89,-2.65,4.48,-1.87,-1.06,-2.51,-2.04,-2.38,-1.97,3.82,-4.35,6.15,-2.02,2.97,-0.58,-2.69,2.77,-1.64,-2.38,-1.75,-2.37,4.96,-2.44,-2.55'],\n",
       "       ['5.96,-2.12,5.21,-4.73,NA']], dtype=object)"
      ]
     },
     "execution_count": 115,
     "metadata": {},
     "output_type": "execute_result"
    }
   ],
   "source": [
    "rollHelMad\n",
    "# cleanedMadRoll"
   ]
  },
  {
   "cell_type": "code",
   "execution_count": 51,
   "id": "ba23a1bd",
   "metadata": {},
   "outputs": [
    {
     "name": "stdout",
     "output_type": "stream",
     "text": [
      "[ 5.02  5.33  5.5  ... -1.93 -2.54 -3.12]\n"
     ]
    }
   ],
   "source": [
    "# USE THIS: \n",
    "cleanedMgPro = np.array(cleanedMgPro)\n",
    "print(cleanedMgPro)"
   ]
  },
  {
   "cell_type": "code",
   "execution_count": 56,
   "id": "6e90b883",
   "metadata": {},
   "outputs": [
    {
     "name": "stdout",
     "output_type": "stream",
     "text": [
      "(2763360,)\n"
     ]
    }
   ],
   "source": [
    "# total array of all DNA shape parameters\n",
    "# cleanedRollRay is the cleaned Roll and HelT array\n",
    "# cleanedMgPro is the cleaned MGW and ProT array\n",
    "\n",
    "totalArray = np.hstack((cleanedRollRay, cleanedMgPro))\n",
    "# print(cleanedRollRay.shape)\n",
    "# print(cleanedMgPro.shape)\n",
    "print(totalArray.shape)"
   ]
  },
  {
   "cell_type": "code",
   "execution_count": 89,
   "id": "2302ea4f",
   "metadata": {},
   "outputs": [],
   "source": [
    "# normalize shape\n",
    "# make min-max normalization function\n",
    "def normalizationFunct(shape):\n",
    "    minShape = min(shape)\n",
    "    maxShape = max(shape)\n",
    "    y = [(x - minShape) / (maxShape - minShape) for x in shape]\n",
    "    y = np.array(y)\n",
    "    return y"
   ]
  },
  {
   "cell_type": "code",
   "execution_count": 92,
   "id": "d562efd1",
   "metadata": {},
   "outputs": [
    {
     "name": "stdout",
     "output_type": "stream",
     "text": [
      "(2763360,)\n"
     ]
    }
   ],
   "source": [
    "normalShape = normalizationFunct(totalArray)\n",
    "print(normalShape.shape)"
   ]
  },
  {
   "cell_type": "code",
   "execution_count": 93,
   "id": "363be556",
   "metadata": {},
   "outputs": [],
   "source": [
    "# one hot encoding function\n",
    "def encodeMono(sequence):\n",
    "    monoMap = {\"A\": [1, 0, 0, 0], \"C\": [0, 1, 0, 0], \"G\": [0, 0, 1, 0], \"T\": [0, 0, 0, 1]}\n",
    "    encoded = []\n",
    "    for mononucleotide in sequence:\n",
    "        encoded.extend(monoMap[mononucleotide])\n",
    "    return encoded"
   ]
  },
  {
   "cell_type": "code",
   "execution_count": 94,
   "id": "ba3c199d",
   "metadata": {},
   "outputs": [],
   "source": [
    "# encode sequences\n",
    "madMono = np.array([encodeMono(seq) for seq in madSeq])\n",
    "maxMono = np.array([encodeMono(seq) for seq in maxSeq])\n",
    "mycMono = np.array([encodeMono(seq) for seq in mycSeq])"
   ]
  },
  {
   "cell_type": "code",
   "execution_count": 104,
   "id": "40fc9386",
   "metadata": {},
   "outputs": [],
   "source": [
    "bigSeq = np.vstack((madMono, maxMono, mycMono))"
   ]
  },
  {
   "cell_type": "code",
   "execution_count": 102,
   "id": "917d5604",
   "metadata": {},
   "outputs": [
    {
     "name": "stdout",
     "output_type": "stream",
     "text": [
      "(36, 12)\n",
      "(2763360,)\n"
     ]
    }
   ],
   "source": [
    "# concatenate monoMer and four shape features ?\n",
    "print(bigSeq.shape)\n",
    "print(normalShape.shape)"
   ]
  },
  {
   "cell_type": "code",
   "execution_count": 105,
   "id": "50eda985",
   "metadata": {},
   "outputs": [
    {
     "ename": "ValueError",
     "evalue": "all the input array dimensions except for the concatenation axis must match exactly, but along dimension 1, the array at index 0 has size 4 and the array at index 1 has size 2763360",
     "output_type": "error",
     "traceback": [
      "\u001b[0;31m---------------------------------------------------------------------------\u001b[0m",
      "\u001b[0;31mValueError\u001b[0m                                Traceback (most recent call last)",
      "Cell \u001b[0;32mIn[105], line 1\u001b[0m\n\u001b[0;32m----> 1\u001b[0m shape1Mer \u001b[38;5;241m=\u001b[39m \u001b[43mnp\u001b[49m\u001b[38;5;241;43m.\u001b[39;49m\u001b[43mvstack\u001b[49m\u001b[43m(\u001b[49m\u001b[43m(\u001b[49m\u001b[43mbigSeq\u001b[49m\u001b[43m,\u001b[49m\u001b[43m \u001b[49m\u001b[43mnormalShape\u001b[49m\u001b[43m)\u001b[49m\u001b[43m)\u001b[49m\n",
      "File \u001b[0;32m~/miniconda3/envs/qbio_490_pbhall/lib/python3.9/site-packages/numpy/core/shape_base.py:289\u001b[0m, in \u001b[0;36mvstack\u001b[0;34m(tup, dtype, casting)\u001b[0m\n\u001b[1;32m    287\u001b[0m \u001b[38;5;28;01mif\u001b[39;00m \u001b[38;5;129;01mnot\u001b[39;00m \u001b[38;5;28misinstance\u001b[39m(arrs, \u001b[38;5;28mlist\u001b[39m):\n\u001b[1;32m    288\u001b[0m     arrs \u001b[38;5;241m=\u001b[39m [arrs]\n\u001b[0;32m--> 289\u001b[0m \u001b[38;5;28;01mreturn\u001b[39;00m \u001b[43m_nx\u001b[49m\u001b[38;5;241;43m.\u001b[39;49m\u001b[43mconcatenate\u001b[49m\u001b[43m(\u001b[49m\u001b[43marrs\u001b[49m\u001b[43m,\u001b[49m\u001b[43m \u001b[49m\u001b[38;5;241;43m0\u001b[39;49m\u001b[43m,\u001b[49m\u001b[43m \u001b[49m\u001b[43mdtype\u001b[49m\u001b[38;5;241;43m=\u001b[39;49m\u001b[43mdtype\u001b[49m\u001b[43m,\u001b[49m\u001b[43m \u001b[49m\u001b[43mcasting\u001b[49m\u001b[38;5;241;43m=\u001b[39;49m\u001b[43mcasting\u001b[49m\u001b[43m)\u001b[49m\n",
      "\u001b[0;31mValueError\u001b[0m: all the input array dimensions except for the concatenation axis must match exactly, but along dimension 1, the array at index 0 has size 4 and the array at index 1 has size 2763360"
     ]
    }
   ],
   "source": [
    "shape1Mer = np.vstack((bigSeq, normalShape))"
   ]
  },
  {
   "cell_type": "code",
   "execution_count": null,
   "id": "7c7674d8",
   "metadata": {},
   "outputs": [],
   "source": []
  },
  {
   "cell_type": "code",
   "execution_count": null,
   "id": "436b6121",
   "metadata": {},
   "outputs": [],
   "source": [
    "# concatenate 1mer and shape for mad, max, myc to make y \n",
    "def concFunct(X, shape):\n",
    "    conc1MerShape = np.vstack(userMono, shape)\n",
    "\n",
    "# apply concat funct to mad, max, myc   (y values)                  \n",
    "concMad = concFunct(userMono, madShape)\n",
    "concMax = concFunct(userMono, maxShape)\n",
    "concMyc = concFunct(userMono, mycShape) "
   ]
  },
  {
   "cell_type": "code",
   "execution_count": null,
   "id": "6c29b431",
   "metadata": {},
   "outputs": [],
   "source": [
    "# Min-Max normalization for y\n",
    "def normalizationFunct(shape):\n",
    "    minShapeNorm = min(shape)\n",
    "    maxShapeNorm = max(shape)\n",
    "    y = [(x - minShapeNorm) / (maxShapeNorm - minShapeNorm) for x in shape]\n",
    "    y = np.array(y)\n",
    "    return y"
   ]
  },
  {
   "cell_type": "code",
   "execution_count": null,
   "id": "9605a737",
   "metadata": {},
   "outputs": [],
   "source": [
    "# apply normalization to y(1mer+shape)\n"
   ]
  },
  {
   "cell_type": "code",
   "execution_count": null,
   "id": "48d3f9cb",
   "metadata": {},
   "outputs": [],
   "source": [
    "# make function for MLR\n",
    "def mlrFunct(X, y):\n",
    "    # Configure the cross-validation\n",
    "    \n",
    "    cv = KFold(n_splits=10, shuffle=True, random_state=1)\n",
    "    # results\n",
    "    \n",
    "    # Initialize Linear Regression model\n",
    "    model = LinearRegression()\n",
    "    model = Lasso(alpha=0.001)\n",
    "    model = Ridge(alpha=0.001)\n",
    "    model = ElasticNet(alpha=0.001, l1_ratio=0.5)\n",
    "    mse_scores = []; r_squared_scores = []\n",
    "    for train_index, valid_index in cv.split(X):\n",
    "        # Split data\n",
    "        X_train, X_valid = X[train_index], X[valid_index]\n",
    "        y_train, y_valid = y[train_index], y[valid_index]\n",
    "\n",
    "        # Fit the model\n",
    "        model.fit(X_train, y_train)\n",
    "\n",
    "        # Predict on valid set\n",
    "        predictions = model.predict(X_valid)\n",
    "\n",
    "        # Evaluate the model\n",
    "        mse = mean_squared_error(y_valid, predictions)\n",
    "        mse_scores.append(mse)\n",
    "\n",
    "        r_squared = model.score(X_valid, y_valid)\n",
    "        r_squared_scores.append(r_squared)\n",
    "    \n",
    "    average_mse = np.mean(mse_scores)\n",
    "    average_r_squared = np.mean(r_squared_scores)\n",
    "    print(f'Average MSE: {average_mse} Average r_squared: {average_r_squared}')\n",
    "    return "
   ]
  },
  {
   "cell_type": "code",
   "execution_count": null,
   "id": "061dd040",
   "metadata": {},
   "outputs": [],
   "source": [
    "# mad training\n",
    "trainMad = mlrFunct(userMono, normalMad)\n",
    "print(trainMad)"
   ]
  },
  {
   "cell_type": "code",
   "execution_count": null,
   "id": "ebed8393",
   "metadata": {},
   "outputs": [],
   "source": [
    "# max training\n",
    "trainMax = mlrFunct(userMono, normalMax)\n",
    "print(trainMax)"
   ]
  },
  {
   "cell_type": "code",
   "execution_count": null,
   "id": "3d372144",
   "metadata": {},
   "outputs": [],
   "source": [
    "# myc training\n",
    "trainMyc = mlrFunct(userMono, normalMyc)\n",
    "print(trainMyc)"
   ]
  }
 ],
 "metadata": {
  "kernelspec": {
   "display_name": "Python 3 (ipykernel)",
   "language": "python",
   "name": "python3"
  },
  "language_info": {
   "codemirror_mode": {
    "name": "ipython",
    "version": 3
   },
   "file_extension": ".py",
   "mimetype": "text/x-python",
   "name": "python",
   "nbconvert_exporter": "python",
   "pygments_lexer": "ipython3",
   "version": "3.9.18"
  }
 },
 "nbformat": 4,
 "nbformat_minor": 5
}
