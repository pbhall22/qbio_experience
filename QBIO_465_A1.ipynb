{
 "cells": [
  {
   "cell_type": "code",
   "execution_count": 2,
   "id": "eb64bf79",
   "metadata": {},
   "outputs": [],
   "source": [
    "# general\n",
    "import pandas as pd\n",
    "import numpy as np\n",
    "\n",
    "# plotting\n",
    "import matplotlib.pyplot as plt\n",
    "\n",
    "# loss\n",
    "from sklearn.metrics import mean_squared_error\n",
    "\n",
    "# model\n",
    "from sklearn.model_selection import train_test_split\n",
    "from sklearn.preprocessing import MinMaxScaler\n",
    "import itertools\n",
    "\n",
    "\n",
    "from sklearn.linear_model import LinearRegression\n",
    "from sklearn.linear_model import Ridge\n",
    "from sklearn.linear_model import ElasticNet"
   ]
  },
  {
   "cell_type": "markdown",
   "id": "36f50056",
   "metadata": {},
   "source": [
    "# Q1: Importing and Visualizing Binding Affinity Data [1 pt]"
   ]
  },
  {
   "cell_type": "markdown",
   "id": "aa00bef4",
   "metadata": {},
   "source": [
    "1. Load the dataset from Max.txt.\n",
    "2. Plot a histogram of binding affinity values.\n",
    "3. Describe any patterns, trends, or anomalies you observe in the distribution?"
   ]
  },
  {
   "cell_type": "code",
   "execution_count": 3,
   "id": "d688068c",
   "metadata": {},
   "outputs": [
    {
     "data": {
      "text/html": [
       "<div>\n",
       "<style scoped>\n",
       "    .dataframe tbody tr th:only-of-type {\n",
       "        vertical-align: middle;\n",
       "    }\n",
       "\n",
       "    .dataframe tbody tr th {\n",
       "        vertical-align: top;\n",
       "    }\n",
       "\n",
       "    .dataframe thead th {\n",
       "        text-align: right;\n",
       "    }\n",
       "</style>\n",
       "<table border=\"1\" class=\"dataframe\">\n",
       "  <thead>\n",
       "    <tr style=\"text-align: right;\">\n",
       "      <th></th>\n",
       "      <th>sequence</th>\n",
       "      <th>binding_strength</th>\n",
       "    </tr>\n",
       "  </thead>\n",
       "  <tbody>\n",
       "    <tr>\n",
       "      <th>0</th>\n",
       "      <td>GAAGCCCTGGCGGGGCGCGTGCCCGCCGCCGCCGCC</td>\n",
       "      <td>3.737829</td>\n",
       "    </tr>\n",
       "    <tr>\n",
       "      <th>1</th>\n",
       "      <td>TCCCGGGGCTAGAGGCATGTGGACTCAGGAGGATGA</td>\n",
       "      <td>3.895754</td>\n",
       "    </tr>\n",
       "    <tr>\n",
       "      <th>2</th>\n",
       "      <td>GGCGCTGCCGGACTGCGCGTGGAGTGGCGCGCTGCT</td>\n",
       "      <td>3.797545</td>\n",
       "    </tr>\n",
       "    <tr>\n",
       "      <th>3</th>\n",
       "      <td>GCAGCTCGCCCGGGCCACGCGGTGCCGGCCCTCGGC</td>\n",
       "      <td>4.080446</td>\n",
       "    </tr>\n",
       "    <tr>\n",
       "      <th>4</th>\n",
       "      <td>GGAATTACCTTCATCCACATGGTTGAAGCTGGCTGG</td>\n",
       "      <td>4.126748</td>\n",
       "    </tr>\n",
       "    <tr>\n",
       "      <th>...</th>\n",
       "      <td>...</td>\n",
       "      <td>...</td>\n",
       "    </tr>\n",
       "    <tr>\n",
       "      <th>8563</th>\n",
       "      <td>AGCAAAGCTGGCCCCCACGTTGTCCTTCCGCAGAAC</td>\n",
       "      <td>4.010130</td>\n",
       "    </tr>\n",
       "    <tr>\n",
       "      <th>8564</th>\n",
       "      <td>GGGACCCTGCCTTCCCGCGTGGCCGCACCGAGACGA</td>\n",
       "      <td>4.036789</td>\n",
       "    </tr>\n",
       "    <tr>\n",
       "      <th>8565</th>\n",
       "      <td>AGAAGAACCCGGGCGCACGTGGCCGACTCCAGGCTG</td>\n",
       "      <td>4.418053</td>\n",
       "    </tr>\n",
       "    <tr>\n",
       "      <th>8566</th>\n",
       "      <td>GGGGCCCGGGTGGGGCATGTGGGGACAACGCCTGGA</td>\n",
       "      <td>3.939968</td>\n",
       "    </tr>\n",
       "    <tr>\n",
       "      <th>8567</th>\n",
       "      <td>AAGCAAACCCCCCAACACGTGTTTCCTAGTTGGGAA</td>\n",
       "      <td>4.511081</td>\n",
       "    </tr>\n",
       "  </tbody>\n",
       "</table>\n",
       "<p>8568 rows × 2 columns</p>\n",
       "</div>"
      ],
      "text/plain": [
       "                                  sequence  binding_strength\n",
       "0     GAAGCCCTGGCGGGGCGCGTGCCCGCCGCCGCCGCC          3.737829\n",
       "1     TCCCGGGGCTAGAGGCATGTGGACTCAGGAGGATGA          3.895754\n",
       "2     GGCGCTGCCGGACTGCGCGTGGAGTGGCGCGCTGCT          3.797545\n",
       "3     GCAGCTCGCCCGGGCCACGCGGTGCCGGCCCTCGGC          4.080446\n",
       "4     GGAATTACCTTCATCCACATGGTTGAAGCTGGCTGG          4.126748\n",
       "...                                    ...               ...\n",
       "8563  AGCAAAGCTGGCCCCCACGTTGTCCTTCCGCAGAAC          4.010130\n",
       "8564  GGGACCCTGCCTTCCCGCGTGGCCGCACCGAGACGA          4.036789\n",
       "8565  AGAAGAACCCGGGCGCACGTGGCCGACTCCAGGCTG          4.418053\n",
       "8566  GGGGCCCGGGTGGGGCATGTGGGGACAACGCCTGGA          3.939968\n",
       "8567  AAGCAAACCCCCCAACACGTGTTTCCTAGTTGGGAA          4.511081\n",
       "\n",
       "[8568 rows x 2 columns]"
      ]
     },
     "execution_count": 3,
     "metadata": {},
     "output_type": "execute_result"
    }
   ],
   "source": [
    "file_path = '/Users/peytonhall/Documents/spring_2025/qbio_465/assignment_1/Max.txt'\n",
    "max_data = pd.read_csv(file_path, sep='\\t', header=None)\n",
    "max_data.columns = ['sequence', 'binding_strength']\n",
    "max_data"
   ]
  },
  {
   "cell_type": "code",
   "execution_count": 4,
   "id": "13173356",
   "metadata": {},
   "outputs": [
    {
     "data": {
      "image/png": "[encoded data removed]",
      "text/plain": [
       "<Figure size 640x480 with 1 Axes>"
      ]
     },
     "metadata": {},
     "output_type": "display_data"
    }
   ],
   "source": [
    "plt.hist(max_data.iloc[:,1], bins=50)\n",
    "plt.xlabel('Affinity Value')\n",
    "plt.ylabel('Sequence Count')\n",
    "plt.title('Histogram of Binding Affinity Values')\n",
    "plt.show()"
   ]
  },
  {
   "cell_type": "markdown",
   "id": "533d74f2",
   "metadata": {},
   "source": [
    "Regarding the distribution, it seems to be right-skewed towards an affinity of around 4.0. \n",
    "\n",
    "However, there is another increase in the occurence of affinities around 4.4. "
   ]
  },
  {
   "cell_type": "markdown",
   "id": "c0769cb6",
   "metadata": {},
   "source": [
    "# Q2: One-Hot Encoding of k-mers [2 pts]"
   ]
  },
  {
   "cell_type": "markdown",
   "id": "2f6f76e4",
   "metadata": {},
   "source": [
    "1. Implement a function that takes a DNA sequence and an integer k as input and returns a\n",
    "one-hot encoded vector representing all k-mers."
   ]
  },
  {
   "cell_type": "code",
   "execution_count": 5,
   "id": "41202a0f",
   "metadata": {},
   "outputs": [],
   "source": [
    "# Function: k_mer_encode\n",
    "# Parameters: sequence and k for k-mer(1,2,3,4)\n",
    "# returns: array of encoded seq with k as k-mer\n",
    "\n",
    "def k_mer_encode(seq, k):\n",
    "    # possible nt\n",
    "    nt= [\"A\", \"C\", \"T\", \"G\"]\n",
    "    \n",
    "    # permutation/enumerate\n",
    "    k_mers= {''.join(kmer) : i for i, kmer in enumerate(itertools.product(nt, repeat=k))}\n",
    "    \n",
    "    # matrix\n",
    "    identity_matrix= np.identity(4**k)\n",
    "    \n",
    "    # encode\n",
    "    encoding= [identity_matrix[k_mers[seq[i: i+k]]] for i in range(len(seq)-k+1)]\n",
    "    return np.concatenate(encoding)"
   ]
  },
  {
   "cell_type": "markdown",
   "id": "73569e95",
   "metadata": {},
   "source": [
    "2. Use this function to generate the one-hot encoded representation for the sequence\n",
    "'AACTGCGT' with k=2."
   ]
  },
  {
   "cell_type": "code",
   "execution_count": 6,
   "id": "658df3c7",
   "metadata": {},
   "outputs": [
    {
     "data": {
      "text/plain": [
       "array([1., 0., 0., 0., 0., 0., 0., 0., 0., 0., 0., 0., 0., 0., 0., 0., 0.,\n",
       "       1., 0., 0., 0., 0., 0., 0., 0., 0., 0., 0., 0., 0., 0., 0., 0., 0.,\n",
       "       0., 0., 0., 0., 1., 0., 0., 0., 0., 0., 0., 0., 0., 0., 0., 0., 0.,\n",
       "       0., 0., 0., 0., 0., 0., 0., 0., 1., 0., 0., 0., 0., 0., 0., 0., 0.,\n",
       "       0., 0., 0., 0., 0., 0., 0., 0., 0., 1., 0., 0., 0., 0., 0., 0., 0.,\n",
       "       0., 0., 1., 0., 0., 0., 0., 0., 0., 0., 0., 0., 0., 0., 0., 0., 0.,\n",
       "       0., 0., 0., 0., 0., 0., 0., 0., 1., 0.])"
      ]
     },
     "execution_count": 6,
     "metadata": {},
     "output_type": "execute_result"
    }
   ],
   "source": [
    "k_mer_encode('AACTGCGT', 2)"
   ]
  },
  {
   "cell_type": "markdown",
   "id": "db54ec08",
   "metadata": {},
   "source": [
    "3. Apply this function to encode all DNA sequences in the dataset.\n",
    "Example Encoding (1-mer and 2-mer representations):\n",
    "\n",
    "1-mer Encoding:\n",
    "○ 'A' → [1000]\n",
    "○ 'C' → [0100]\n",
    "○ 'G' → [0010]\n",
    "○ 'T' → [0001]\n",
    "\n",
    "\n",
    "2-mer Encoding:\n",
    "○ 'AA' → [1000000000000000]\n",
    "○ 'AC' → [0100000000000000]\n",
    "○ 'TT' → [0000000000000001]"
   ]
  },
  {
   "cell_type": "code",
   "execution_count": 7,
   "id": "4e6dc5a2",
   "metadata": {},
   "outputs": [],
   "source": [
    "# make sequence and affinity vars\n",
    "sequence = max_data[\"sequence\"]\n",
    "affinity = max_data[\"binding_strength\"]"
   ]
  },
  {
   "cell_type": "code",
   "execution_count": 8,
   "id": "4d6635d9",
   "metadata": {},
   "outputs": [],
   "source": [
    "# scale affinity \n",
    "# min-max normalization function\n",
    "def normalizationFunct(shape):\n",
    "    minShape = np.min(shape, axis=0)  # Minimum for each column\n",
    "    maxShape = np.max(shape, axis=0)  # Maximum for each column\n",
    "    y = (shape - minShape) / (maxShape - minShape)\n",
    "    return y"
   ]
  },
  {
   "cell_type": "code",
   "execution_count": 9,
   "id": "72327614",
   "metadata": {},
   "outputs": [
    {
     "data": {
      "text/plain": [
       "0       0.106881\n",
       "1       0.232205\n",
       "2       0.154269\n",
       "3       0.378770\n",
       "4       0.415513\n",
       "          ...   \n",
       "8563    0.322970\n",
       "8564    0.344125\n",
       "8565    0.646682\n",
       "8566    0.267292\n",
       "8567    0.720506\n",
       "Name: binding_strength, Length: 8568, dtype: float64"
      ]
     },
     "execution_count": 9,
     "metadata": {},
     "output_type": "execute_result"
    }
   ],
   "source": [
    "affinity_normal = normalizationFunct(affinity)\n",
    "affinity_normal"
   ]
  },
  {
   "cell_type": "code",
   "execution_count": 10,
   "id": "f9f80e99",
   "metadata": {},
   "outputs": [],
   "source": [
    "# 1mer encode max\n",
    "encoded_mono_max = np.array([k_mer_encode(i,1) for i in sequence])"
   ]
  },
  {
   "cell_type": "code",
   "execution_count": 11,
   "id": "8fac2678",
   "metadata": {},
   "outputs": [
    {
     "data": {
      "text/plain": [
       "(8568, 144)"
      ]
     },
     "execution_count": 11,
     "metadata": {},
     "output_type": "execute_result"
    }
   ],
   "source": [
    "# check shape\n",
    "encoded_mono_max.shape\n",
    "# good, 144/4 = 36 bp long to start"
   ]
  },
  {
   "cell_type": "code",
   "execution_count": 12,
   "id": "e8e5d8a7",
   "metadata": {},
   "outputs": [],
   "source": [
    "# 2mer encode max\n",
    "encoded_di_max = np.array([k_mer_encode(i,2) for i in sequence])"
   ]
  },
  {
   "cell_type": "code",
   "execution_count": 13,
   "id": "9519c6b1",
   "metadata": {},
   "outputs": [
    {
     "data": {
      "text/plain": [
       "(8568, 560)"
      ]
     },
     "execution_count": 13,
     "metadata": {},
     "output_type": "execute_result"
    }
   ],
   "source": [
    "# check shape\n",
    "encoded_di_max.shape"
   ]
  },
  {
   "cell_type": "markdown",
   "id": "7b03be05",
   "metadata": {},
   "source": [
    "# Q3: Effect of Regularization on a 1-mer Model [2 pts]"
   ]
  },
  {
   "cell_type": "markdown",
   "id": "e0573c71",
   "metadata": {},
   "source": [
    "1. Train a linear regression model using one-hot encoded 1-mer representations and\n",
    "compute the training and test loss."
   ]
  },
  {
   "cell_type": "code",
   "execution_count": 14,
   "id": "bb5ea39a",
   "metadata": {},
   "outputs": [],
   "source": [
    "def lin_regress(seq,affinity):\n",
    "    # split data into training and testing\n",
    "    X_train, X_test, y_train, y_test = train_test_split(seq, affinity, test_size=0.2, random_state=22)\n",
    "    \n",
    "    # initialize model\n",
    "    model = LinearRegression()\n",
    "    \n",
    "    # fit model\n",
    "    model.fit(X_train, y_train)\n",
    "    \n",
    "    # make predictions on training and testing data\n",
    "    train_pred = model.predict(X_train)\n",
    "    test_pred = model.predict(X_test)\n",
    "    \n",
    "    # train and test loss via mse\n",
    "    mse_train_loss = mean_squared_error(y_train, train_pred)\n",
    "    mse_test_loss = mean_squared_error(y_test, test_pred)\n",
    "    \n",
    "    return mse_train_loss, mse_test_loss"
   ]
  },
  {
   "cell_type": "code",
   "execution_count": 15,
   "id": "ceb0a189",
   "metadata": {},
   "outputs": [
    {
     "name": "stdout",
     "output_type": "stream",
     "text": [
      "Training and testing loss, respectively:\n"
     ]
    },
    {
     "data": {
      "text/plain": [
       "(0.006064540359966593, 0.00633911345547404)"
      ]
     },
     "execution_count": 15,
     "metadata": {},
     "output_type": "execute_result"
    }
   ],
   "source": [
    "print(\"Training and testing loss, respectively:\")\n",
    "lin_regress(encoded_mono_max,affinity_normal)"
   ]
  },
  {
   "cell_type": "markdown",
   "id": "9e25a459",
   "metadata": {},
   "source": [
    "2. Apply L2 regularization (Ridge regression) with different values of alpha:\n",
    "○ alpha = 0 (no regularization)\n",
    "○ alpha = 0.1 (small regularization)\n",
    "○ alpha = 10 (large regularization)"
   ]
  },
  {
   "cell_type": "code",
   "execution_count": 16,
   "id": "1533b11c",
   "metadata": {},
   "outputs": [],
   "source": [
    "def ridge_regression(seq, affinity):\n",
    "    # split data\n",
    "    X_train, X_test, y_train, y_test = train_test_split(seq, affinity, test_size=0.2, random_state=22)\n",
    "    \n",
    "    # alpha values\n",
    "    alphas = [0, 0.1, 10]\n",
    "    train_losses = []\n",
    "    test_losses = []\n",
    "    \n",
    "    for alpha in alphas:\n",
    "        # initialize ridge\n",
    "        model = Ridge(alpha=alpha)\n",
    "        model.fit(X_train, y_train)\n",
    "        \n",
    "        # predictions\n",
    "        train_pred = model.predict(X_train)\n",
    "        test_pred = model.predict(X_test)\n",
    "        \n",
    "        # compute losses\n",
    "        train_losses.append(mean_squared_error(y_train, train_pred))\n",
    "        test_losses.append(mean_squared_error(y_test, test_pred))\n",
    "    \n",
    "    # plot\n",
    "    plt.figure(figsize=(8, 5))\n",
    "    plt.plot(alphas, train_losses, label='Training Loss', marker='o')\n",
    "    plt.plot(alphas, test_losses, label='Test Loss', marker='o')\n",
    "    plt.xlabel('Alpha Values')\n",
    "    plt.ylabel('Mean Squared Error (MSE)')\n",
    "    plt.title('Effect of L2 Regularization on Training and Test Loss')\n",
    "    plt.legend()\n",
    "    plt.show()\n",
    "    \n",
    "    # print\n",
    "    print(\"Training Losses:\", train_losses)\n",
    "    print(\"Test Losses:\", test_losses)"
   ]
  },
  {
   "cell_type": "markdown",
   "id": "3099164e",
   "metadata": {},
   "source": [
    "3. Plot a line graph with:\n",
    "○ X-axis: Alpha values\n",
    "○ Y-axis: Mean Squared Error (MSE)\n",
    "○ Separate lines: Training loss and test loss"
   ]
  },
  {
   "cell_type": "code",
   "execution_count": 17,
   "id": "096c3eb6",
   "metadata": {},
   "outputs": [
    {
     "data": {
      "image/png": "[encoded data removed]",
      "text/plain": [
       "<Figure size 800x500 with 1 Axes>"
      ]
     },
     "metadata": {},
     "output_type": "display_data"
    },
    {
     "name": "stdout",
     "output_type": "stream",
     "text": [
      "Training Losses: [0.006919814254636896, 0.00602118218492724, 0.0060267469777646855]\n",
      "Test Losses: [0.007064325229530768, 0.006309576561103513, 0.006317680995314124]\n"
     ]
    }
   ],
   "source": [
    "ridge_regression(encoded_mono_max,affinity_normal)"
   ]
  },
  {
   "cell_type": "markdown",
   "id": "161ddfa9",
   "metadata": {},
   "source": [
    "4. Answer the following questions:\n",
    "○ How do different values of alpha affect training and test loss?\n",
    "○ Does regularization help improve the model in this case? Explain your\n",
    "observations.\n",
    "\n",
    "Different values of alpha decrease testing and training loss. Regularization helped improve the model in this case. My observations is that regularization with alpha tuning helped to improve model performance, but regularization without tuning didn't seem to perform better than linear regression alone. "
   ]
  },
  {
   "cell_type": "markdown",
   "id": "e86060c8",
   "metadata": {},
   "source": [
    "# Q4: Examining Model Complexity (1-mer to 4-mer) (2 pts)"
   ]
  },
  {
   "cell_type": "markdown",
   "id": "c6b770e3",
   "metadata": {},
   "source": [
    "1. Train four linear regression models using one-hot encoded representations for:\n",
    "○ 1-mer, 2-mer, 3-mer, and 4-mer"
   ]
  },
  {
   "cell_type": "code",
   "execution_count": 18,
   "id": "58a47098",
   "metadata": {},
   "outputs": [
    {
     "data": {
      "text/plain": [
       "array([[0., 0., 0., ..., 1., 0., 0.],\n",
       "       [0., 0., 1., ..., 0., 0., 0.],\n",
       "       [0., 0., 0., ..., 0., 1., 0.],\n",
       "       ...,\n",
       "       [1., 0., 0., ..., 0., 0., 1.],\n",
       "       [0., 0., 0., ..., 0., 0., 0.],\n",
       "       [1., 0., 0., ..., 0., 0., 0.]])"
      ]
     },
     "execution_count": 18,
     "metadata": {},
     "output_type": "execute_result"
    }
   ],
   "source": [
    "#1mer data\n",
    "encoded_mono_max"
   ]
  },
  {
   "cell_type": "code",
   "execution_count": 19,
   "id": "3b71c7eb",
   "metadata": {},
   "outputs": [],
   "source": [
    "#now get 3mer and 4mer data\n",
    "encoded_3_max = np.array([k_mer_encode(i,3) for i in sequence])\n",
    "encoded_4_max = np.array([k_mer_encode(i,4) for i in sequence])"
   ]
  },
  {
   "cell_type": "code",
   "execution_count": 20,
   "id": "2d93596d",
   "metadata": {},
   "outputs": [],
   "source": [
    "mer_encodings = {\n",
    "    \"1mer\": encoded_mono_max,\n",
    "    \"2mer\": encoded_di_max,\n",
    "    \"3mer\": encoded_3_max,\n",
    "    \"4mer\": encoded_4_max\n",
    "}\n",
    "\n",
    "train_mse = []\n",
    "test_mse = []\n",
    "labels = []"
   ]
  },
  {
   "cell_type": "code",
   "execution_count": 21,
   "id": "30141eb0",
   "metadata": {},
   "outputs": [],
   "source": [
    "for k_mer_label, X_encoded in mer_encodings.items():\n",
    "    # split data\n",
    "    X_train, X_test, y_train, y_test = train_test_split(X_encoded, affinity_normal, test_size=0.2, random_state=22)\n",
    "    \n",
    "    # initialize and fit \n",
    "    model = LinearRegression()\n",
    "    model= model.fit(X_train, y_train)\n",
    "    \n",
    "    # compute pred\n",
    "    train_pred = model.predict(X_train)\n",
    "    test_pred = model.predict(X_test)\n",
    "    \n",
    "    # get loss\n",
    "    mse_train_loss = mean_squared_error(y_train, train_pred)\n",
    "    mse_test_loss = mean_squared_error(y_test, test_pred)\n",
    "    \n",
    "    # loss lists for plot\n",
    "    train_mse.append(mse_train_loss)\n",
    "    test_mse.append(mse_test_loss)\n",
    "    labels.append(k_mer_label)"
   ]
  },
  {
   "cell_type": "code",
   "execution_count": null,
   "id": "ef977912",
   "metadata": {},
   "outputs": [],
   "source": [
    "plt.figure(figsize=(8, 5))\n",
    "plt.plot(labels, train_mse, marker='o', label=\"Training Loss\", linestyle='dashed')\n",
    "plt.plot(labels, test_mse, marker='s', label=\"Testing Loss\")\n",
    "plt.xlabel(\"Model Complexity (k-mer)\")\n",
    "plt.ylabel(\"Mean Squared Error (MSE)\")\n",
    "plt.legend()\n",
    "plt.title(\"MSE vs. Model Complexity\")\n",
    "plt.ylim(0,0.1)\n",
    "plt.show()"
   ]
  },
  {
   "cell_type": "markdown",
   "id": "57870db7",
   "metadata": {},
   "source": [
    "The training loss appears to decrease as complexity increases. However, the testing loss increases as complexity increases, as there is STRONG overfitting around 4mer since there is more noise with poor generalization. Overfitting may be addressed through R2 regression."
   ]
  },
  {
   "cell_type": "code",
   "execution_count": null,
   "id": "40684d90",
   "metadata": {},
   "outputs": [],
   "source": [
    "# Elastic Net regularization to account for overfitting \n",
    "elastic_net = ElasticNet(alpha=0.001, l1_ratio=0.5, max_iter=10000)\n",
    "elastic_net.fit(X_train, y_train)\n",
    "\n",
    "y_train_pred = elastic_net.predict(X_train)\n",
    "y_test_pred = elastic_net.predict(X_test)\n",
    "\n",
    "train_mse_q4 = mean_squared_error(y_train, y_train_pred)\n",
    "test_mse_q4 = mean_squared_error(y_test, y_test_pred)\n",
    "\n",
    "print(f\"Elastic Net Regression: Train MSE = {train_mse_q4:.4f}, Test MSE = {test_mse_q4:.4f}\")\n",
    "\n",
    "# Elastic Net MSE plot\n",
    "plt.plot(['1-mer', '2-mer', '3-mer', '4-mer'], train_mse, marker='o', label=\"Train MSE\")\n",
    "plt.plot(['1-mer', '2-mer', '3-mer', '4-mer'], test_mse, marker='o', label=\"Test MSE\")\n",
    "plt.xlabel(\"Model Complexity (k-mer size)\")\n",
    "plt.ylabel(\"Mean Squared Error (MSE)\")\n",
    "plt.title(\"Elastic Net Regularization: Effect of Model Complexity\")\n",
    "plt.legend()\n",
    "plt.show()"
   ]
  },
  {
   "cell_type": "markdown",
   "id": "153cbc59",
   "metadata": {},
   "source": [
    "The 3-mer model best balances bias and variance, capturing meaningful patterns without overfitting. The 4-mer model, even with regularization, retains some variance, while the 1-mer and 2-mer models suffer from high bias and underfitting."
   ]
  },
  {
   "cell_type": "markdown",
   "id": "e26e8919",
   "metadata": {},
   "source": [
    "*note the run times went longer for the last two plots but were able to run. "
   ]
  }
 ],
 "metadata": {
  "kernelspec": {
   "display_name": "Python 3 (ipykernel)",
   "language": "python",
   "name": "python3"
  },
  "language_info": {
   "codemirror_mode": {
    "name": "ipython",
    "version": 3
   },
   "file_extension": ".py",
   "mimetype": "text/x-python",
   "name": "python",
   "nbconvert_exporter": "python",
   "pygments_lexer": "ipython3",
   "version": "3.9.18"
  }
 },
 "nbformat": 4,
 "nbformat_minor": 5
}
