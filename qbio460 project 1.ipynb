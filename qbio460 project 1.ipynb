{
 "cells": [
  {
   "cell_type": "code",
   "execution_count": 1,
   "id": "85dc4c70",
   "metadata": {},
   "outputs": [],
   "source": [
    "# import pandas, numpy, scaler, kfold, linregression\n",
    "import pandas as pd\n",
    "import numpy as np\n",
    "import zipfile\n",
    "from sklearn.preprocessing import MinMaxScaler\n",
    "from sklearn.model_selection import KFold\n",
    "from sklearn.metrics import mean_squared_error\n",
    "from sklearn.linear_model import LinearRegression"
   ]
  },
  {
   "cell_type": "code",
   "execution_count": 2,
   "id": "39804cff",
   "metadata": {},
   "outputs": [
    {
     "data": {
      "text/html": [
       "<div>\n",
       "<style scoped>\n",
       "    .dataframe tbody tr th:only-of-type {\n",
       "        vertical-align: middle;\n",
       "    }\n",
       "\n",
       "    .dataframe tbody tr th {\n",
       "        vertical-align: top;\n",
       "    }\n",
       "\n",
       "    .dataframe thead th {\n",
       "        text-align: right;\n",
       "    }\n",
       "</style>\n",
       "<table border=\"1\" class=\"dataframe\">\n",
       "  <thead>\n",
       "    <tr style=\"text-align: right;\">\n",
       "      <th></th>\n",
       "      <th>sequence</th>\n",
       "      <th>affinity</th>\n",
       "    </tr>\n",
       "  </thead>\n",
       "  <tbody>\n",
       "    <tr>\n",
       "      <th>0</th>\n",
       "      <td>ACCGACCGGCGCGGGCACGAGGCAATGGCGGCCGGG</td>\n",
       "      <td>7.847372</td>\n",
       "    </tr>\n",
       "    <tr>\n",
       "      <th>1</th>\n",
       "      <td>AACAGCGCCACCGGCCTCGTGCACTTCTTCCACTGT</td>\n",
       "      <td>8.027477</td>\n",
       "    </tr>\n",
       "    <tr>\n",
       "      <th>2</th>\n",
       "      <td>GCGGCCGGTCTGCACCATGCTGCGAACGTCCGTCCT</td>\n",
       "      <td>7.675546</td>\n",
       "    </tr>\n",
       "    <tr>\n",
       "      <th>3</th>\n",
       "      <td>TTATTGAGCCCCTACCATGTGCCAGGCCCTGGGCTA</td>\n",
       "      <td>8.419580</td>\n",
       "    </tr>\n",
       "    <tr>\n",
       "      <th>4</th>\n",
       "      <td>CCCCTCAGCTGCTTCCTCGTGGCGCTGATCATCTGG</td>\n",
       "      <td>8.453188</td>\n",
       "    </tr>\n",
       "    <tr>\n",
       "      <th>...</th>\n",
       "      <td>...</td>\n",
       "      <td>...</td>\n",
       "    </tr>\n",
       "    <tr>\n",
       "      <th>6921</th>\n",
       "      <td>GCCCCCTGCGGGAGCCGCGTGGACCGCCCCGGTGGC</td>\n",
       "      <td>8.746080</td>\n",
       "    </tr>\n",
       "    <tr>\n",
       "      <th>6922</th>\n",
       "      <td>GGACGTCTCAAAACACACGTGTGACTTAGATGGTAA</td>\n",
       "      <td>9.292289</td>\n",
       "    </tr>\n",
       "    <tr>\n",
       "      <th>6923</th>\n",
       "      <td>TCTGCCCAGTCCCTCCACATGGGAAATATAGCACTG</td>\n",
       "      <td>8.349484</td>\n",
       "    </tr>\n",
       "    <tr>\n",
       "      <th>6924</th>\n",
       "      <td>AGGACTACAAGTTCCAGCGTGCTTTGCTCGATTTCG</td>\n",
       "      <td>7.362645</td>\n",
       "    </tr>\n",
       "    <tr>\n",
       "      <th>6925</th>\n",
       "      <td>CGGGAGGGGCGGGGCCACGCTGCGGGCCCGGGCCAT</td>\n",
       "      <td>8.161375</td>\n",
       "    </tr>\n",
       "  </tbody>\n",
       "</table>\n",
       "<p>6926 rows × 2 columns</p>\n",
       "</div>"
      ],
      "text/plain": [
       "                                  sequence  affinity\n",
       "0     ACCGACCGGCGCGGGCACGAGGCAATGGCGGCCGGG  7.847372\n",
       "1     AACAGCGCCACCGGCCTCGTGCACTTCTTCCACTGT  8.027477\n",
       "2     GCGGCCGGTCTGCACCATGCTGCGAACGTCCGTCCT  7.675546\n",
       "3     TTATTGAGCCCCTACCATGTGCCAGGCCCTGGGCTA  8.419580\n",
       "4     CCCCTCAGCTGCTTCCTCGTGGCGCTGATCATCTGG  8.453188\n",
       "...                                    ...       ...\n",
       "6921  GCCCCCTGCGGGAGCCGCGTGGACCGCCCCGGTGGC  8.746080\n",
       "6922  GGACGTCTCAAAACACACGTGTGACTTAGATGGTAA  9.292289\n",
       "6923  TCTGCCCAGTCCCTCCACATGGGAAATATAGCACTG  8.349484\n",
       "6924  AGGACTACAAGTTCCAGCGTGCTTTGCTCGATTTCG  7.362645\n",
       "6925  CGGGAGGGGCGGGGCCACGCTGCGGGCCCGGGCCAT  8.161375\n",
       "\n",
       "[6926 rows x 2 columns]"
      ]
     },
     "execution_count": 2,
     "metadata": {},
     "output_type": "execute_result"
    }
   ],
   "source": [
    "'''\n",
    "1. Download the TF-DNA binding gcPBM data for Max, Myc, and Mad from \n",
    "Blackboard: ‘Max.txt’ for TF Max, ‘Mad.txt’ for TF Mad, and ‘Myc.txt’ \n",
    "for TF Myc. Each file contains two columns, where the first column \n",
    "represents the binding sequence and the second column shows the \n",
    "binding affinity. Utilize pandas to read these files into a DataFrame \n",
    "format. Once the data is loaded, count and report the number of \n",
    "sequences for each TF. [1pt]\n",
    "'''\n",
    "\n",
    "# import files\n",
    "# import mad\n",
    "file_path = '/Users/peytonhall/downloads/Mad.txt'\n",
    "madDf = pd.read_csv(file_path, sep='\\t', header=None)\n",
    "madDf.columns = ['sequence', 'affinity']\n",
    "madDf\n",
    "# mad has 7534 sequences\n",
    "\n",
    "# import max\n",
    "file_path = '/Users/peytonhall/downloads/Max.txt'\n",
    "maxDf = pd.read_csv(file_path, sep='\\t', header=None)\n",
    "maxDf.columns = ['sequence', 'affinity']\n",
    "maxDf\n",
    "# max has 8568 sequences\n",
    "\n",
    "# import myc\n",
    "file_path = '/Users/peytonhall/downloads/Myc.txt'\n",
    "mycDf = pd.read_csv(file_path, sep='\\t', header=None)\n",
    "mycDf.columns = ['sequence', 'affinity']\n",
    "mycDf\n",
    "# myc has 6926 sequences"
   ]
  },
  {
   "cell_type": "code",
   "execution_count": 3,
   "id": "cc66cebd",
   "metadata": {},
   "outputs": [],
   "source": [
    "'''\n",
    "Write a function to convert DNA sequences into a one-hot \n",
    "encoding format. This should be done for both \n",
    "mononucleotide (1mer) and dinucleotide (2mer) formats.\n",
    "'''\n",
    "\n",
    "# one hot encoding for mad\n",
    "# make dictionary to encode mononucleotide\n",
    "def encodeMono(sequence):\n",
    "    monoMap = {\"A\": [1, 0, 0, 0], \"C\": [0, 1, 0, 0], \"G\": [0, 0, 1, 0], \"T\": [0, 0, 0, 1]}\n",
    "    encoded = []\n",
    "    for mononucleotide in sequence:\n",
    "        encoded.extend(monoMap[mononucleotide])\n",
    "    return encoded\n",
    "\n",
    "# encode dimer\n",
    "def encodeDi(sequence):\n",
    "    diMap = {\"AA\": [1,0,0,0,0,0,0,0,0,0,0,0,0,0,0,0], \"AC\": [0,1,0,0,0,0,0,0,0,0,0,0,0,0,0,0], \"AG\": [0,0,1,0,0,0,0,0,0,0,0,0,0,0,0,0], \"AT\": [0,0,0,1,0,0,0,0,0,0,0,0,0,0,0,0], \n",
    "             \"CA\": [0,0,0,0,1,0,0,0,0,0,0,0,0,0,0,0], \"CC\": [0,0,0,0,0,1,0,0,0,0,0,0,0,0,0,0], \"CG\": [0,0,0,0,0,0,1,0,0,0,0,0,0,0,0,0], \"CT\": [0,0,0,0,0,0,0,1,0,0,0,0,0,0,0,0], \n",
    "             \"GA\": [0,0,0,0,0,0,0,0,1,0,0,0,0,0,0,0], \"GC\": [0,0,0,0,0,0,0,0,0,1,0,0,0,0,0,0], \"GG\": [0,0,0,0,0,0,0,0,0,0,1,0,0,0,0,0], \"GT\": [0,0,0,0,0,0,0,0,0,0,0,1,0,0,0,0],\n",
    "             \"TA\": [0,0,0,0,0,0,0,0,0,0,0,0,1,0,0,0], \"TC\": [0,0,0,0,0,0,0,0,0,0,0,0,0,1,0,0], \"TG\": [0,0,0,0,0,0,0,0,0,0,0,0,0,0,1,0], \"TT\": [0,0,0,0,0,0,0,0,0,0,0,0,0,0,0,1]}\n",
    "    encodedDi = []\n",
    "    for dinucleotide in range(len(sequence)):\n",
    "        if dinucleotide == len(sequence)-1:\n",
    "            break\n",
    "        diCount = sequence[dinucleotide: dinucleotide + 2] # to account for end of one dinucleotide starting another\n",
    "        encodedDi.extend(diMap[diCount])\n",
    "    return encodedDi"
   ]
  },
  {
   "cell_type": "code",
   "execution_count": 4,
   "id": "86776ad0",
   "metadata": {},
   "outputs": [],
   "source": [
    "# convert sequence and affinity to lists\n",
    "madSequences = madDf['sequence'].tolist()\n",
    "madAffinity = madDf['affinity'].tolist()\n",
    "\n",
    "maxSequences = maxDf['sequence'].tolist()\n",
    "maxAffinity = maxDf['affinity'].tolist()\n",
    "\n",
    "mycSequences = mycDf['sequence'].tolist()\n",
    "mycAffinity = mycDf['affinity'].tolist()"
   ]
  },
  {
   "cell_type": "code",
   "execution_count": 5,
   "id": "be5810ae",
   "metadata": {},
   "outputs": [],
   "source": [
    "# one hot encode the sequences\n",
    "# one hot encode for mad\n",
    "madMono = np.array([encodeMono(seq) for seq in madSequences])\n",
    "\n",
    "# X = np.vstack((madMono, mgw))\n",
    "\n",
    "madDi = np.array([encodeDi(seq) for seq in madSequences])\n",
    "# one hot encode for max\n",
    "maxMono = np.array([encodeMono(seq) for seq in maxSequences])\n",
    "maxDi = np.array([encodeDi(seq) for seq in maxSequences])\n",
    "# one hot encode for myc\n",
    "mycMono = np.array([encodeMono(seq) for seq in mycSequences])\n",
    "mycDi = np.array([encodeDi(seq) for seq in mycSequences])"
   ]
  },
  {
   "cell_type": "code",
   "execution_count": 7,
   "id": "a849d83d",
   "metadata": {},
   "outputs": [
    {
     "name": "stdout",
     "output_type": "stream",
     "text": [
      "[[0 0 0 ... 0 1 0]\n",
      " [0 0 0 ... 0 1 0]\n",
      " [0 0 0 ... 0 0 0]\n",
      " ...\n",
      " [0 0 0 ... 0 0 0]\n",
      " [0 0 0 ... 0 0 0]\n",
      " [0 0 0 ... 0 0 0]]\n"
     ]
    }
   ],
   "source": [
    "print(madDi)"
   ]
  },
  {
   "cell_type": "code",
   "execution_count": 68,
   "id": "3ac0dfb9",
   "metadata": {},
   "outputs": [],
   "source": [
    "# normalize binding affinity values using min-max normalization\n",
    "# made a function to be able to apply to mad,max,myc\n",
    "def normalizationFunct(affinityValues):\n",
    "    minAffinityNorm = min(affinityValues)\n",
    "    maxAffinityNorm = max(affinityValues)\n",
    "    y = [(x - minAffinityNorm) / (maxAffinityNorm - minAffinityNorm) for x in affinityValues]\n",
    "    y = np.array(y)\n",
    "    return y"
   ]
  },
  {
   "cell_type": "code",
   "execution_count": 69,
   "id": "d6ece867",
   "metadata": {},
   "outputs": [],
   "source": [
    "# apply normalization function to max,mad,myc\n",
    "madAffinity = normalizationFunct(madAffinity)\n",
    "maxAffinity = normalizationFunct(maxAffinity)\n",
    "mycAffinity = normalizationFunct(mycAffinity)"
   ]
  },
  {
   "cell_type": "code",
   "execution_count": 70,
   "id": "93517f93",
   "metadata": {},
   "outputs": [
    {
     "data": {
      "text/plain": [
       "array([0.41340591, 0.18571892, 0.79608383, ..., 0.16059828, 0.43706897,\n",
       "       0.3819514 ])"
      ]
     },
     "execution_count": 70,
     "metadata": {},
     "output_type": "execute_result"
    }
   ],
   "source": [
    "madAffinity"
   ]
  },
  {
   "cell_type": "code",
   "execution_count": 72,
   "id": "d146ed30",
   "metadata": {},
   "outputs": [],
   "source": [
    "'''Use 10-fold cross validation to train these two models. [1pt]'''\n",
    "def training(X, y):\n",
    "    # trainMadMono = trainingFunct(madMono, madAffinity)\n",
    "    # trainMadDi = trainingFunct(madDi, madAffinity)\n",
    "    # Configure the cross-validation\n",
    "    cv = KFold(n_splits=10, shuffle=True, random_state=1)\n",
    "\n",
    "    # results\n",
    "    mse_scores = []; r_squared_scores = []\n",
    "\n",
    "    # Initialize Linear Regression model\n",
    "    model = LinearRegression()\n",
    "\n",
    "    # Loop over each fold\n",
    "    for train_index, valid_index in cv.split(X):\n",
    "        # Split data\n",
    "        X_train, X_valid = X[train_index], X[valid_index]\n",
    "        y_train, y_valid = y[train_index], y[valid_index]\n",
    "\n",
    "        # Fit the model\n",
    "        model.fit(X_train, y_train)\n",
    "\n",
    "        # Predict on valid set\n",
    "        predictions = model.predict(X_valid)\n",
    "\n",
    "        # Evaluate the model\n",
    "        mse = mean_squared_error(y_valid, predictions)\n",
    "        mse_scores.append(mse)\n",
    "\n",
    "        r_squared = model.score(X_valid, y_valid)\n",
    "        r_squared_scores.append(r_squared)\n",
    "\n",
    "    average_mse = np.mean(mse_scores)\n",
    "    average_r_squared = np.mean(r_squared_scores)\n",
    "\n",
    "    print(f'Average MSE: {average_mse} Average r_squared: {average_r_squared}')\n",
    "    return \n",
    "    # each should give average MSE and r^2"
   ]
  },
  {
   "cell_type": "code",
   "execution_count": 73,
   "id": "0b1cd646",
   "metadata": {},
   "outputs": [
    {
     "name": "stdout",
     "output_type": "stream",
     "text": [
      "Average MSE: 0.008063636558478526 Average r_squared: 0.7758656780550961\n",
      "None\n",
      "Average MSE: 0.006069934061210675 Average r_squared: 0.8312216101859413\n",
      "None\n"
     ]
    }
   ],
   "source": [
    "# myc training\n",
    "\n",
    "trainMycMono = training(mycMono, mycAffinity)\n",
    "print(trainMycMono)\n",
    "\n",
    "\n",
    "trainMycDi = training(mycDi, mycAffinity)\n",
    "print(trainMycDi)\n",
    "\n",
    "'''\n",
    "Average MSE: 0.008063636558478526 Average r_squared: 0.7758656780550961\n",
    "None\n",
    "Average MSE: 0.006069934061210675 Average r_squared: 0.8312216101859413\n",
    "None\n",
    "'''"
   ]
  },
  {
   "cell_type": "code",
   "execution_count": 74,
   "id": "46578ac0",
   "metadata": {},
   "outputs": [
    {
     "name": "stdout",
     "output_type": "stream",
     "text": [
      "Average MSE: 0.010164454225023717 Average r_squared: 0.7731972103927929\n",
      "None\n",
      "Average MSE: 0.006738805918059245 Average r_squared: 0.8495551112457168\n",
      "None\n"
     ]
    }
   ],
   "source": [
    "# mad training\n",
    "trainMadMono = training(madMono, madAffinity)\n",
    "print(trainMadMono)\n",
    "\n",
    "trainMadDi = training(madDi, madAffinity)\n",
    "print(trainMadDi)\n",
    "\n",
    "'''\n",
    "Average MSE: 0.010164454225023717 Average r_squared: 0.7731972103927929\n",
    "None\n",
    "Average MSE: 0.006738805918059245 Average r_squared: 0.8495551112457168\n",
    "None\n",
    "'''"
   ]
  },
  {
   "cell_type": "code",
   "execution_count": 75,
   "id": "c800e782",
   "metadata": {},
   "outputs": [
    {
     "name": "stdout",
     "output_type": "stream",
     "text": [
      "Average MSE: 0.006241655236634816 Average r_squared: 0.7833283773670303\n",
      "None\n",
      "Average MSE: 0.0040006941428690395 Average r_squared: 0.8610443815364244\n",
      "None\n"
     ]
    }
   ],
   "source": [
    "# max training\n",
    "trainMaxMono = training(maxMono, maxAffinity)\n",
    "print(trainMaxMono)\n",
    "\n",
    "trainMaxDi = training(maxDi, maxAffinity)\n",
    "print(trainMaxDi)\n",
    "\n",
    "'''\n",
    "Average MSE: 0.006241655236634816 Average r_squared: 0.7833283773670303\n",
    "None\n",
    "Average MSE: 0.0040006941428690395 Average r_squared: 0.8610443815364244\n",
    "None\n",
    "'''"
   ]
  },
  {
   "cell_type": "code",
   "execution_count": null,
   "id": "673e81d7",
   "metadata": {},
   "outputs": [],
   "source": [
    "'''\n",
    "\n",
    "'''"
   ]
  },
  {
   "cell_type": "code",
   "execution_count": null,
   "id": "88b01095",
   "metadata": {},
   "outputs": [],
   "source": []
  }
 ],
 "metadata": {
  "kernelspec": {
   "display_name": "Python 3 (ipykernel)",
   "language": "python",
   "name": "python3"
  },
  "language_info": {
   "codemirror_mode": {
    "name": "ipython",
    "version": 3
   },
   "file_extension": ".py",
   "mimetype": "text/x-python",
   "name": "python",
   "nbconvert_exporter": "python",
   "pygments_lexer": "ipython3",
   "version": "3.9.18"
  }
 },
 "nbformat": 4,
 "nbformat_minor": 5
}
