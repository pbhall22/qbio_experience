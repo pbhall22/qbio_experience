{
 "cells": [
  {
   "cell_type": "code",
   "execution_count": 2,
   "id": "ff03beb1",
   "metadata": {},
   "outputs": [],
   "source": [
    "#IMPORT BLOCK\n",
    "# general\n",
    "import pandas as pd\n",
    "import numpy as np\n",
    "\n",
    "import itertools\n",
    "\n",
    "#plot\n",
    "import matplotlib.pyplot as plt\n",
    "import seaborn as sns\n",
    "\n",
    "#gen ml\n",
    "from sklearn.model_selection import train_test_split\n",
    "from sklearn.linear_model import LinearRegression\n",
    "\n",
    "#nn/keras\n",
    "import tensorflow as tf\n",
    "from tensorflow.keras.models import Sequential\n",
    "from tensorflow.keras.layers import Dense, Dropout, BatchNormalization \n",
    "from tensorflow.keras.optimizers import Adam\n",
    "from tensorflow.keras.layers import Input\n",
    "\n",
    "#metrics\n",
    "from sklearn.metrics import mean_squared_error\n",
    "\n",
    "#hyperparameter tuning\n",
    "from sklearn.model_selection import GridSearchCV\n",
    "import keras_tuner as kt\n"
   ]
  },
  {
   "cell_type": "markdown",
   "id": "3d142fdd",
   "metadata": {},
   "source": [
    "import files"
   ]
  },
  {
   "cell_type": "code",
   "execution_count": 3,
   "id": "ffd68c87",
   "metadata": {},
   "outputs": [],
   "source": [
    "# fasta file reading\n",
    "def read_fasta(file_path):\n",
    "    with open(file_path, 'r') as file:\n",
    "        sequences = [line.strip() for line in file if not line.startswith(\">\")]\n",
    "    return pd.DataFrame(sequences, columns=[\"Sequence\"])"
   ]
  },
  {
   "cell_type": "code",
   "execution_count": 4,
   "id": "94dd8f8e",
   "metadata": {},
   "outputs": [
    {
     "data": {
      "text/html": [
       "<div>\n",
       "<style scoped>\n",
       "    .dataframe tbody tr th:only-of-type {\n",
       "        vertical-align: middle;\n",
       "    }\n",
       "\n",
       "    .dataframe tbody tr th {\n",
       "        vertical-align: top;\n",
       "    }\n",
       "\n",
       "    .dataframe thead th {\n",
       "        text-align: right;\n",
       "    }\n",
       "</style>\n",
       "<table border=\"1\" class=\"dataframe\">\n",
       "  <thead>\n",
       "    <tr style=\"text-align: right;\">\n",
       "      <th></th>\n",
       "      <th>Sequence</th>\n",
       "    </tr>\n",
       "  </thead>\n",
       "  <tbody>\n",
       "    <tr>\n",
       "      <th>0</th>\n",
       "      <td>AGAGCAAGTGTAAGTTCTTAGGCGCTCGAG</td>\n",
       "    </tr>\n",
       "    <tr>\n",
       "      <th>1</th>\n",
       "      <td>ACAGAATTAACTGCGGGCATCGCAAACCTG</td>\n",
       "    </tr>\n",
       "    <tr>\n",
       "      <th>2</th>\n",
       "      <td>GTTAACTCTGCATAACTCATTTTAGATGTT</td>\n",
       "    </tr>\n",
       "    <tr>\n",
       "      <th>3</th>\n",
       "      <td>TCCTGAATCTCGTCTGGACTAGGGACACTT</td>\n",
       "    </tr>\n",
       "    <tr>\n",
       "      <th>4</th>\n",
       "      <td>GAGCAAAAGGAAACTCAAAACATTGCTTCG</td>\n",
       "    </tr>\n",
       "    <tr>\n",
       "      <th>...</th>\n",
       "      <td>...</td>\n",
       "    </tr>\n",
       "    <tr>\n",
       "      <th>1995</th>\n",
       "      <td>TAGCATTGTCAACCTTGTGAGTACAGCGAC</td>\n",
       "    </tr>\n",
       "    <tr>\n",
       "      <th>1996</th>\n",
       "      <td>TATTAGGGATGGACACGTGCAATAACTGCC</td>\n",
       "    </tr>\n",
       "    <tr>\n",
       "      <th>1997</th>\n",
       "      <td>AAAATGATTTAAGCCGGAAGAGTAAGGTGA</td>\n",
       "    </tr>\n",
       "    <tr>\n",
       "      <th>1998</th>\n",
       "      <td>CAGACAGGCGTGCCACCAGCCGAAGTGCTG</td>\n",
       "    </tr>\n",
       "    <tr>\n",
       "      <th>1999</th>\n",
       "      <td>TCACTCCCCCACATCTGGGTATCAACACAC</td>\n",
       "    </tr>\n",
       "  </tbody>\n",
       "</table>\n",
       "<p>2000 rows × 1 columns</p>\n",
       "</div>"
      ],
      "text/plain": [
       "                            Sequence\n",
       "0     AGAGCAAGTGTAAGTTCTTAGGCGCTCGAG\n",
       "1     ACAGAATTAACTGCGGGCATCGCAAACCTG\n",
       "2     GTTAACTCTGCATAACTCATTTTAGATGTT\n",
       "3     TCCTGAATCTCGTCTGGACTAGGGACACTT\n",
       "4     GAGCAAAAGGAAACTCAAAACATTGCTTCG\n",
       "...                              ...\n",
       "1995  TAGCATTGTCAACCTTGTGAGTACAGCGAC\n",
       "1996  TATTAGGGATGGACACGTGCAATAACTGCC\n",
       "1997  AAAATGATTTAAGCCGGAAGAGTAAGGTGA\n",
       "1998  CAGACAGGCGTGCCACCAGCCGAAGTGCTG\n",
       "1999  TCACTCCCCCACATCTGGGTATCAACACAC\n",
       "\n",
       "[2000 rows x 1 columns]"
      ]
     },
     "execution_count": 4,
     "metadata": {},
     "output_type": "execute_result"
    }
   ],
   "source": [
    "bound = read_fasta('/Users/peytonhall/Documents/spring_2025/qbio_465/assignment_3/max_bound.fasta')\n",
    "bound"
   ]
  },
  {
   "cell_type": "code",
   "execution_count": 5,
   "id": "324b7fc8",
   "metadata": {},
   "outputs": [
    {
     "data": {
      "text/html": [
       "<div>\n",
       "<style scoped>\n",
       "    .dataframe tbody tr th:only-of-type {\n",
       "        vertical-align: middle;\n",
       "    }\n",
       "\n",
       "    .dataframe tbody tr th {\n",
       "        vertical-align: top;\n",
       "    }\n",
       "\n",
       "    .dataframe thead th {\n",
       "        text-align: right;\n",
       "    }\n",
       "</style>\n",
       "<table border=\"1\" class=\"dataframe\">\n",
       "  <thead>\n",
       "    <tr style=\"text-align: right;\">\n",
       "      <th></th>\n",
       "      <th>Sequence</th>\n",
       "    </tr>\n",
       "  </thead>\n",
       "  <tbody>\n",
       "    <tr>\n",
       "      <th>0</th>\n",
       "      <td>TCAACTTAGAGGGCACGTGGCGATCATATA</td>\n",
       "    </tr>\n",
       "    <tr>\n",
       "      <th>1</th>\n",
       "      <td>TACAGACTAGATTCACCCGAATAGTACCGA</td>\n",
       "    </tr>\n",
       "    <tr>\n",
       "      <th>2</th>\n",
       "      <td>CCATGCACTAAACCAGGTGTACGCTGAGAG</td>\n",
       "    </tr>\n",
       "    <tr>\n",
       "      <th>3</th>\n",
       "      <td>TGTCGACGTCAATCACGAGGGAGAGATACT</td>\n",
       "    </tr>\n",
       "    <tr>\n",
       "      <th>4</th>\n",
       "      <td>TCCAATAATAGGGCACACGGATAAAGGGGG</td>\n",
       "    </tr>\n",
       "    <tr>\n",
       "      <th>...</th>\n",
       "      <td>...</td>\n",
       "    </tr>\n",
       "    <tr>\n",
       "      <th>1995</th>\n",
       "      <td>ACCCGAGATCAGTCACGTGAACACAAAAAT</td>\n",
       "    </tr>\n",
       "    <tr>\n",
       "      <th>1996</th>\n",
       "      <td>ATATACCCCCAGGCACGTGGCATCGAGGTT</td>\n",
       "    </tr>\n",
       "    <tr>\n",
       "      <th>1997</th>\n",
       "      <td>TGGGGTATGTAACCAAGGGTCTAATGATGA</td>\n",
       "    </tr>\n",
       "    <tr>\n",
       "      <th>1998</th>\n",
       "      <td>TTAGGGCAGCAACCACGTGAGTCAACGATC</td>\n",
       "    </tr>\n",
       "    <tr>\n",
       "      <th>1999</th>\n",
       "      <td>GATGGACGATGACCACGTGACCCAGTGGCG</td>\n",
       "    </tr>\n",
       "  </tbody>\n",
       "</table>\n",
       "<p>2000 rows × 1 columns</p>\n",
       "</div>"
      ],
      "text/plain": [
       "                            Sequence\n",
       "0     TCAACTTAGAGGGCACGTGGCGATCATATA\n",
       "1     TACAGACTAGATTCACCCGAATAGTACCGA\n",
       "2     CCATGCACTAAACCAGGTGTACGCTGAGAG\n",
       "3     TGTCGACGTCAATCACGAGGGAGAGATACT\n",
       "4     TCCAATAATAGGGCACACGGATAAAGGGGG\n",
       "...                              ...\n",
       "1995  ACCCGAGATCAGTCACGTGAACACAAAAAT\n",
       "1996  ATATACCCCCAGGCACGTGGCATCGAGGTT\n",
       "1997  TGGGGTATGTAACCAAGGGTCTAATGATGA\n",
       "1998  TTAGGGCAGCAACCACGTGAGTCAACGATC\n",
       "1999  GATGGACGATGACCACGTGACCCAGTGGCG\n",
       "\n",
       "[2000 rows x 1 columns]"
      ]
     },
     "execution_count": 5,
     "metadata": {},
     "output_type": "execute_result"
    }
   ],
   "source": [
    "unbound = read_fasta('/Users/peytonhall/Documents/spring_2025/qbio_465/assignment_3/max_unbound.fasta')\n",
    "unbound"
   ]
  },
  {
   "cell_type": "code",
   "execution_count": 6,
   "id": "fcba2915",
   "metadata": {},
   "outputs": [
    {
     "data": {
      "text/html": [
       "<div>\n",
       "<style scoped>\n",
       "    .dataframe tbody tr th:only-of-type {\n",
       "        vertical-align: middle;\n",
       "    }\n",
       "\n",
       "    .dataframe tbody tr th {\n",
       "        vertical-align: top;\n",
       "    }\n",
       "\n",
       "    .dataframe thead th {\n",
       "        text-align: right;\n",
       "    }\n",
       "</style>\n",
       "<table border=\"1\" class=\"dataframe\">\n",
       "  <thead>\n",
       "    <tr style=\"text-align: right;\">\n",
       "      <th></th>\n",
       "      <th>sequence</th>\n",
       "      <th>binding_strength</th>\n",
       "    </tr>\n",
       "  </thead>\n",
       "  <tbody>\n",
       "    <tr>\n",
       "      <th>0</th>\n",
       "      <td>GAAGCCCTGGCGGGGCGCGTGCCCGCCGCCGCCGCC</td>\n",
       "      <td>3.737829</td>\n",
       "    </tr>\n",
       "    <tr>\n",
       "      <th>1</th>\n",
       "      <td>TCCCGGGGCTAGAGGCATGTGGACTCAGGAGGATGA</td>\n",
       "      <td>3.895754</td>\n",
       "    </tr>\n",
       "    <tr>\n",
       "      <th>2</th>\n",
       "      <td>GGCGCTGCCGGACTGCGCGTGGAGTGGCGCGCTGCT</td>\n",
       "      <td>3.797545</td>\n",
       "    </tr>\n",
       "    <tr>\n",
       "      <th>3</th>\n",
       "      <td>GCAGCTCGCCCGGGCCACGCGGTGCCGGCCCTCGGC</td>\n",
       "      <td>4.080446</td>\n",
       "    </tr>\n",
       "    <tr>\n",
       "      <th>4</th>\n",
       "      <td>GGAATTACCTTCATCCACATGGTTGAAGCTGGCTGG</td>\n",
       "      <td>4.126748</td>\n",
       "    </tr>\n",
       "    <tr>\n",
       "      <th>...</th>\n",
       "      <td>...</td>\n",
       "      <td>...</td>\n",
       "    </tr>\n",
       "    <tr>\n",
       "      <th>8563</th>\n",
       "      <td>AGCAAAGCTGGCCCCCACGTTGTCCTTCCGCAGAAC</td>\n",
       "      <td>4.010130</td>\n",
       "    </tr>\n",
       "    <tr>\n",
       "      <th>8564</th>\n",
       "      <td>GGGACCCTGCCTTCCCGCGTGGCCGCACCGAGACGA</td>\n",
       "      <td>4.036789</td>\n",
       "    </tr>\n",
       "    <tr>\n",
       "      <th>8565</th>\n",
       "      <td>AGAAGAACCCGGGCGCACGTGGCCGACTCCAGGCTG</td>\n",
       "      <td>4.418053</td>\n",
       "    </tr>\n",
       "    <tr>\n",
       "      <th>8566</th>\n",
       "      <td>GGGGCCCGGGTGGGGCATGTGGGGACAACGCCTGGA</td>\n",
       "      <td>3.939968</td>\n",
       "    </tr>\n",
       "    <tr>\n",
       "      <th>8567</th>\n",
       "      <td>AAGCAAACCCCCCAACACGTGTTTCCTAGTTGGGAA</td>\n",
       "      <td>4.511081</td>\n",
       "    </tr>\n",
       "  </tbody>\n",
       "</table>\n",
       "<p>8568 rows × 2 columns</p>\n",
       "</div>"
      ],
      "text/plain": [
       "                                  sequence  binding_strength\n",
       "0     GAAGCCCTGGCGGGGCGCGTGCCCGCCGCCGCCGCC          3.737829\n",
       "1     TCCCGGGGCTAGAGGCATGTGGACTCAGGAGGATGA          3.895754\n",
       "2     GGCGCTGCCGGACTGCGCGTGGAGTGGCGCGCTGCT          3.797545\n",
       "3     GCAGCTCGCCCGGGCCACGCGGTGCCGGCCCTCGGC          4.080446\n",
       "4     GGAATTACCTTCATCCACATGGTTGAAGCTGGCTGG          4.126748\n",
       "...                                    ...               ...\n",
       "8563  AGCAAAGCTGGCCCCCACGTTGTCCTTCCGCAGAAC          4.010130\n",
       "8564  GGGACCCTGCCTTCCCGCGTGGCCGCACCGAGACGA          4.036789\n",
       "8565  AGAAGAACCCGGGCGCACGTGGCCGACTCCAGGCTG          4.418053\n",
       "8566  GGGGCCCGGGTGGGGCATGTGGGGACAACGCCTGGA          3.939968\n",
       "8567  AAGCAAACCCCCCAACACGTGTTTCCTAGTTGGGAA          4.511081\n",
       "\n",
       "[8568 rows x 2 columns]"
      ]
     },
     "execution_count": 6,
     "metadata": {},
     "output_type": "execute_result"
    }
   ],
   "source": [
    "file_path = '/Users/peytonhall/Documents/spring_2025/qbio_465/assignment_3/Max.txt'\n",
    "max_data = pd.read_csv(file_path, sep='\\t', header=None)\n",
    "max_data.columns = ['sequence', 'binding_strength']\n",
    "max_data"
   ]
  },
  {
   "cell_type": "markdown",
   "id": "d9b40785",
   "metadata": {},
   "source": [
    "Q1: Deep Learning Model for Regression Using Keras [1pts]\n",
    "1.  Build a fully connected neural network (NN) using Keras that:\n",
    "\n",
    "● Uses the 1-mer one-hot encoding as input (use the encoding function from the\n",
    "previous assignment).\n",
    "\n",
    "● Has one hidden layer with 16 nodes and ReLU activation.\n",
    "\n",
    "● Uses Mean Squared Error (MSE) as the loss function.\n",
    "\n",
    "● Uses Adam as the optimizer.\n",
    "\n",
    "● Trains for 50 epochs."
   ]
  },
  {
   "cell_type": "code",
   "execution_count": 7,
   "id": "d1eaf0d1",
   "metadata": {},
   "outputs": [],
   "source": [
    "# encode 1mer \n",
    "# Function: k_mer_encode\n",
    "# Parameters: sequence and k for k-mer(1,2,3,4)\n",
    "# returns: array of encoded seq with k as k-mer\n",
    "def k_mer_encode(seq, k):\n",
    "    # possible nt\n",
    "    nt= [\"A\", \"C\", \"T\", \"G\"]\n",
    "    \n",
    "    # permutation/enumerate\n",
    "    k_mers= {''.join(kmer) : i for i, kmer in enumerate(itertools.product(nt, repeat=k))}\n",
    "    \n",
    "    # matrix\n",
    "    identity_matrix= np.identity(4**k)\n",
    "    \n",
    "    # encode\n",
    "    encoding= [identity_matrix[k_mers[seq[i: i+k]]] for i in range(len(seq)-k+1)]\n",
    "    return np.concatenate(encoding)"
   ]
  },
  {
   "cell_type": "code",
   "execution_count": 8,
   "id": "223c094e",
   "metadata": {},
   "outputs": [],
   "source": [
    "sequence = max_data[\"sequence\"]\n",
    "affinity = max_data[\"binding_strength\"]"
   ]
  },
  {
   "cell_type": "code",
   "execution_count": 9,
   "id": "3e14719d",
   "metadata": {},
   "outputs": [],
   "source": [
    "# scale affinity \n",
    "# min-max normalization function\n",
    "def normalizationFunct(shape):\n",
    "    minShape = np.min(shape, axis=0)  # Minimum for each column\n",
    "    maxShape = np.max(shape, axis=0)  # Maximum for each column\n",
    "    y = (shape - minShape) / (maxShape - minShape)\n",
    "    return y"
   ]
  },
  {
   "cell_type": "code",
   "execution_count": 10,
   "id": "9faa0f2d",
   "metadata": {},
   "outputs": [],
   "source": [
    "y = normalizationFunct(affinity)"
   ]
  },
  {
   "cell_type": "code",
   "execution_count": 11,
   "id": "b7ac556f",
   "metadata": {},
   "outputs": [],
   "source": [
    "X = np.array([k_mer_encode(i,1) for i in sequence])"
   ]
  },
  {
   "cell_type": "code",
   "execution_count": 12,
   "id": "1bea464b",
   "metadata": {},
   "outputs": [
    {
     "data": {
      "text/plain": [
       "(8568,)"
      ]
     },
     "execution_count": 12,
     "metadata": {},
     "output_type": "execute_result"
    }
   ],
   "source": [
    "y.shape"
   ]
  },
  {
   "cell_type": "code",
   "execution_count": 13,
   "id": "d0c7f0be",
   "metadata": {},
   "outputs": [],
   "source": [
    "# split data\n",
    "X_train, X_test, y_train, y_test = train_test_split(X, y, test_size=0.2, random_state=42)"
   ]
  },
  {
   "cell_type": "code",
   "execution_count": 14,
   "id": "f6852d15",
   "metadata": {},
   "outputs": [],
   "source": [
    "# neural network\n",
    "model = Sequential()\n",
    "#one hidden layer with 16 nodes and ReLU activation\n",
    "model.add(Input(shape= np.array(X_train).shape[1:], ))\n",
    "model.add(Dense(16, activation='relu'))\n",
    "\n",
    "# compile with adam optimizer and mse as loss\n",
    "model.compile(optimizer=Adam(), loss='mse')"
   ]
  },
  {
   "cell_type": "markdown",
   "id": "b488eeb7",
   "metadata": {},
   "source": [
    "2. Train the model and evaluate it using MSE on the test set."
   ]
  },
  {
   "cell_type": "code",
   "execution_count": 15,
   "id": "54aa0ec7",
   "metadata": {},
   "outputs": [
    {
     "name": "stdout",
     "output_type": "stream",
     "text": [
      "Epoch 1/50\n",
      "\u001b[1m108/108\u001b[0m \u001b[32m━━━━━━━━━━━━━━━━━━━━\u001b[0m\u001b[37m\u001b[0m \u001b[1m0s\u001b[0m 1ms/step - loss: 0.1451 - val_loss: 0.1074\n",
      "Epoch 2/50\n",
      "\u001b[1m108/108\u001b[0m \u001b[32m━━━━━━━━━━━━━━━━━━━━\u001b[0m\u001b[37m\u001b[0m \u001b[1m0s\u001b[0m 547us/step - loss: 0.0874 - val_loss: 0.0324\n",
      "Epoch 3/50\n",
      "\u001b[1m108/108\u001b[0m \u001b[32m━━━━━━━━━━━━━━━━━━━━\u001b[0m\u001b[37m\u001b[0m \u001b[1m0s\u001b[0m 614us/step - loss: 0.0232 - val_loss: 0.0091\n",
      "Epoch 4/50\n",
      "\u001b[1m108/108\u001b[0m \u001b[32m━━━━━━━━━━━━━━━━━━━━\u001b[0m\u001b[37m\u001b[0m \u001b[1m0s\u001b[0m 642us/step - loss: 0.0083 - val_loss: 0.0065\n",
      "Epoch 5/50\n",
      "\u001b[1m108/108\u001b[0m \u001b[32m━━━━━━━━━━━━━━━━━━━━\u001b[0m\u001b[37m\u001b[0m \u001b[1m0s\u001b[0m 710us/step - loss: 0.0066 - val_loss: 0.0060\n",
      "Epoch 6/50\n",
      "\u001b[1m108/108\u001b[0m \u001b[32m━━━━━━━━━━━━━━━━━━━━\u001b[0m\u001b[37m\u001b[0m \u001b[1m0s\u001b[0m 805us/step - loss: 0.0063 - val_loss: 0.0062\n",
      "Epoch 7/50\n",
      "\u001b[1m108/108\u001b[0m \u001b[32m━━━━━━━━━━━━━━━━━━━━\u001b[0m\u001b[37m\u001b[0m \u001b[1m0s\u001b[0m 651us/step - loss: 0.0062 - val_loss: 0.0059\n",
      "Epoch 8/50\n",
      "\u001b[1m108/108\u001b[0m \u001b[32m━━━━━━━━━━━━━━━━━━━━\u001b[0m\u001b[37m\u001b[0m \u001b[1m0s\u001b[0m 646us/step - loss: 0.0063 - val_loss: 0.0059\n",
      "Epoch 9/50\n",
      "\u001b[1m108/108\u001b[0m \u001b[32m━━━━━━━━━━━━━━━━━━━━\u001b[0m\u001b[37m\u001b[0m \u001b[1m0s\u001b[0m 644us/step - loss: 0.0062 - val_loss: 0.0060\n",
      "Epoch 10/50\n",
      "\u001b[1m108/108\u001b[0m \u001b[32m━━━━━━━━━━━━━━━━━━━━\u001b[0m\u001b[37m\u001b[0m \u001b[1m0s\u001b[0m 638us/step - loss: 0.0064 - val_loss: 0.0062\n",
      "Epoch 11/50\n",
      "\u001b[1m108/108\u001b[0m \u001b[32m━━━━━━━━━━━━━━━━━━━━\u001b[0m\u001b[37m\u001b[0m \u001b[1m0s\u001b[0m 692us/step - loss: 0.0068 - val_loss: 0.0059\n",
      "Epoch 12/50\n",
      "\u001b[1m108/108\u001b[0m \u001b[32m━━━━━━━━━━━━━━━━━━━━\u001b[0m\u001b[37m\u001b[0m \u001b[1m0s\u001b[0m 673us/step - loss: 0.0066 - val_loss: 0.0058\n",
      "Epoch 13/50\n",
      "\u001b[1m108/108\u001b[0m \u001b[32m━━━━━━━━━━━━━━━━━━━━\u001b[0m\u001b[37m\u001b[0m \u001b[1m0s\u001b[0m 785us/step - loss: 0.0063 - val_loss: 0.0058\n",
      "Epoch 14/50\n",
      "\u001b[1m108/108\u001b[0m \u001b[32m━━━━━━━━━━━━━━━━━━━━\u001b[0m\u001b[37m\u001b[0m \u001b[1m0s\u001b[0m 631us/step - loss: 0.0061 - val_loss: 0.0059\n",
      "Epoch 15/50\n",
      "\u001b[1m108/108\u001b[0m \u001b[32m━━━━━━━━━━━━━━━━━━━━\u001b[0m\u001b[37m\u001b[0m \u001b[1m0s\u001b[0m 702us/step - loss: 0.0063 - val_loss: 0.0058\n",
      "Epoch 16/50\n",
      "\u001b[1m108/108\u001b[0m \u001b[32m━━━━━━━━━━━━━━━━━━━━\u001b[0m\u001b[37m\u001b[0m \u001b[1m0s\u001b[0m 813us/step - loss: 0.0064 - val_loss: 0.0068\n",
      "Epoch 17/50\n",
      "\u001b[1m108/108\u001b[0m \u001b[32m━━━━━━━━━━━━━━━━━━━━\u001b[0m\u001b[37m\u001b[0m \u001b[1m0s\u001b[0m 707us/step - loss: 0.0070 - val_loss: 0.0059\n",
      "Epoch 18/50\n",
      "\u001b[1m108/108\u001b[0m \u001b[32m━━━━━━━━━━━━━━━━━━━━\u001b[0m\u001b[37m\u001b[0m \u001b[1m0s\u001b[0m 793us/step - loss: 0.0064 - val_loss: 0.0059\n",
      "Epoch 19/50\n",
      "\u001b[1m108/108\u001b[0m \u001b[32m━━━━━━━━━━━━━━━━━━━━\u001b[0m\u001b[37m\u001b[0m \u001b[1m0s\u001b[0m 640us/step - loss: 0.0063 - val_loss: 0.0058\n",
      "Epoch 20/50\n",
      "\u001b[1m108/108\u001b[0m \u001b[32m━━━━━━━━━━━━━━━━━━━━\u001b[0m\u001b[37m\u001b[0m \u001b[1m0s\u001b[0m 649us/step - loss: 0.0063 - val_loss: 0.0061\n",
      "Epoch 21/50\n",
      "\u001b[1m108/108\u001b[0m \u001b[32m━━━━━━━━━━━━━━━━━━━━\u001b[0m\u001b[37m\u001b[0m \u001b[1m0s\u001b[0m 670us/step - loss: 0.0065 - val_loss: 0.0059\n",
      "Epoch 22/50\n",
      "\u001b[1m108/108\u001b[0m \u001b[32m━━━━━━━━━━━━━━━━━━━━\u001b[0m\u001b[37m\u001b[0m \u001b[1m0s\u001b[0m 676us/step - loss: 0.0065 - val_loss: 0.0059\n",
      "Epoch 23/50\n",
      "\u001b[1m108/108\u001b[0m \u001b[32m━━━━━━━━━━━━━━━━━━━━\u001b[0m\u001b[37m\u001b[0m \u001b[1m0s\u001b[0m 753us/step - loss: 0.0063 - val_loss: 0.0059\n",
      "Epoch 24/50\n",
      "\u001b[1m108/108\u001b[0m \u001b[32m━━━━━━━━━━━━━━━━━━━━\u001b[0m\u001b[37m\u001b[0m \u001b[1m0s\u001b[0m 698us/step - loss: 0.0062 - val_loss: 0.0060\n",
      "Epoch 25/50\n",
      "\u001b[1m108/108\u001b[0m \u001b[32m━━━━━━━━━━━━━━━━━━━━\u001b[0m\u001b[37m\u001b[0m \u001b[1m0s\u001b[0m 663us/step - loss: 0.0064 - val_loss: 0.0066\n",
      "Epoch 26/50\n",
      "\u001b[1m108/108\u001b[0m \u001b[32m━━━━━━━━━━━━━━━━━━━━\u001b[0m\u001b[37m\u001b[0m \u001b[1m0s\u001b[0m 875us/step - loss: 0.0066 - val_loss: 0.0059\n",
      "Epoch 27/50\n",
      "\u001b[1m108/108\u001b[0m \u001b[32m━━━━━━━━━━━━━━━━━━━━\u001b[0m\u001b[37m\u001b[0m \u001b[1m0s\u001b[0m 664us/step - loss: 0.0065 - val_loss: 0.0058\n",
      "Epoch 28/50\n",
      "\u001b[1m108/108\u001b[0m \u001b[32m━━━━━━━━━━━━━━━━━━━━\u001b[0m\u001b[37m\u001b[0m \u001b[1m0s\u001b[0m 693us/step - loss: 0.0062 - val_loss: 0.0059\n",
      "Epoch 29/50\n",
      "\u001b[1m108/108\u001b[0m \u001b[32m━━━━━━━━━━━━━━━━━━━━\u001b[0m\u001b[37m\u001b[0m \u001b[1m0s\u001b[0m 649us/step - loss: 0.0064 - val_loss: 0.0059\n",
      "Epoch 30/50\n",
      "\u001b[1m108/108\u001b[0m \u001b[32m━━━━━━━━━━━━━━━━━━━━\u001b[0m\u001b[37m\u001b[0m \u001b[1m0s\u001b[0m 799us/step - loss: 0.0064 - val_loss: 0.0065\n",
      "Epoch 31/50\n",
      "\u001b[1m108/108\u001b[0m \u001b[32m━━━━━━━━━━━━━━━━━━━━\u001b[0m\u001b[37m\u001b[0m \u001b[1m0s\u001b[0m 865us/step - loss: 0.0062 - val_loss: 0.0070\n",
      "Epoch 32/50\n",
      "\u001b[1m108/108\u001b[0m \u001b[32m━━━━━━━━━━━━━━━━━━━━\u001b[0m\u001b[37m\u001b[0m \u001b[1m0s\u001b[0m 3ms/step - loss: 0.0067 - val_loss: 0.0059\n",
      "Epoch 33/50\n",
      "\u001b[1m108/108\u001b[0m \u001b[32m━━━━━━━━━━━━━━━━━━━━\u001b[0m\u001b[37m\u001b[0m \u001b[1m0s\u001b[0m 829us/step - loss: 0.0066 - val_loss: 0.0060\n",
      "Epoch 34/50\n",
      "\u001b[1m108/108\u001b[0m \u001b[32m━━━━━━━━━━━━━━━━━━━━\u001b[0m\u001b[37m\u001b[0m \u001b[1m0s\u001b[0m 734us/step - loss: 0.0064 - val_loss: 0.0066\n",
      "Epoch 35/50\n",
      "\u001b[1m108/108\u001b[0m \u001b[32m━━━━━━━━━━━━━━━━━━━━\u001b[0m\u001b[37m\u001b[0m \u001b[1m0s\u001b[0m 887us/step - loss: 0.0063 - val_loss: 0.0059\n",
      "Epoch 36/50\n",
      "\u001b[1m108/108\u001b[0m \u001b[32m━━━━━━━━━━━━━━━━━━━━\u001b[0m\u001b[37m\u001b[0m \u001b[1m0s\u001b[0m 903us/step - loss: 0.0064 - val_loss: 0.0062\n",
      "Epoch 37/50\n",
      "\u001b[1m108/108\u001b[0m \u001b[32m━━━━━━━━━━━━━━━━━━━━\u001b[0m\u001b[37m\u001b[0m \u001b[1m0s\u001b[0m 664us/step - loss: 0.0067 - val_loss: 0.0058\n",
      "Epoch 38/50\n",
      "\u001b[1m108/108\u001b[0m \u001b[32m━━━━━━━━━━━━━━━━━━━━\u001b[0m\u001b[37m\u001b[0m \u001b[1m0s\u001b[0m 665us/step - loss: 0.0065 - val_loss: 0.0059\n",
      "Epoch 39/50\n",
      "\u001b[1m108/108\u001b[0m \u001b[32m━━━━━━━━━━━━━━━━━━━━\u001b[0m\u001b[37m\u001b[0m \u001b[1m0s\u001b[0m 650us/step - loss: 0.0063 - val_loss: 0.0061\n",
      "Epoch 40/50\n",
      "\u001b[1m108/108\u001b[0m \u001b[32m━━━━━━━━━━━━━━━━━━━━\u001b[0m\u001b[37m\u001b[0m \u001b[1m0s\u001b[0m 664us/step - loss: 0.0067 - val_loss: 0.0059\n",
      "Epoch 41/50\n",
      "\u001b[1m108/108\u001b[0m \u001b[32m━━━━━━━━━━━━━━━━━━━━\u001b[0m\u001b[37m\u001b[0m \u001b[1m0s\u001b[0m 682us/step - loss: 0.0065 - val_loss: 0.0059\n",
      "Epoch 42/50\n",
      "\u001b[1m108/108\u001b[0m \u001b[32m━━━━━━━━━━━━━━━━━━━━\u001b[0m\u001b[37m\u001b[0m \u001b[1m0s\u001b[0m 774us/step - loss: 0.0063 - val_loss: 0.0060\n",
      "Epoch 43/50\n",
      "\u001b[1m108/108\u001b[0m \u001b[32m━━━━━━━━━━━━━━━━━━━━\u001b[0m\u001b[37m\u001b[0m \u001b[1m0s\u001b[0m 658us/step - loss: 0.0063 - val_loss: 0.0060\n",
      "Epoch 44/50\n",
      "\u001b[1m108/108\u001b[0m \u001b[32m━━━━━━━━━━━━━━━━━━━━\u001b[0m\u001b[37m\u001b[0m \u001b[1m0s\u001b[0m 667us/step - loss: 0.0063 - val_loss: 0.0059\n",
      "Epoch 45/50\n",
      "\u001b[1m108/108\u001b[0m \u001b[32m━━━━━━━━━━━━━━━━━━━━\u001b[0m\u001b[37m\u001b[0m \u001b[1m0s\u001b[0m 653us/step - loss: 0.0063 - val_loss: 0.0060\n",
      "Epoch 46/50\n",
      "\u001b[1m108/108\u001b[0m \u001b[32m━━━━━━━━━━━━━━━━━━━━\u001b[0m\u001b[37m\u001b[0m \u001b[1m0s\u001b[0m 657us/step - loss: 0.0064 - val_loss: 0.0061\n",
      "Epoch 47/50\n",
      "\u001b[1m108/108\u001b[0m \u001b[32m━━━━━━━━━━━━━━━━━━━━\u001b[0m\u001b[37m\u001b[0m \u001b[1m0s\u001b[0m 673us/step - loss: 0.0066 - val_loss: 0.0066\n",
      "Epoch 48/50\n",
      "\u001b[1m108/108\u001b[0m \u001b[32m━━━━━━━━━━━━━━━━━━━━\u001b[0m\u001b[37m\u001b[0m \u001b[1m0s\u001b[0m 661us/step - loss: 0.0065 - val_loss: 0.0062\n",
      "Epoch 49/50\n",
      "\u001b[1m108/108\u001b[0m \u001b[32m━━━━━━━━━━━━━━━━━━━━\u001b[0m\u001b[37m\u001b[0m \u001b[1m0s\u001b[0m 655us/step - loss: 0.0065 - val_loss: 0.0065\n",
      "Epoch 50/50\n",
      "\u001b[1m108/108\u001b[0m \u001b[32m━━━━━━━━━━━━━━━━━━━━\u001b[0m\u001b[37m\u001b[0m \u001b[1m0s\u001b[0m 864us/step - loss: 0.0063 - val_loss: 0.0061\n"
     ]
    }
   ],
   "source": [
    "# train the model w 50 epochs\n",
    "history = model.fit(X_train, \n",
    "                    y_train, \n",
    "                    validation_data=(X_test, y_test), \n",
    "                    epochs=50, \n",
    "                    batch_size=64,\n",
    "                    verbose=1)"
   ]
  },
  {
   "cell_type": "markdown",
   "id": "4fd20a7b",
   "metadata": {},
   "source": [
    "Plot the learning history of the NN (training vs. validation loss over epochs)."
   ]
  },
  {
   "cell_type": "code",
   "execution_count": 16,
   "id": "227fa5cf",
   "metadata": {},
   "outputs": [
    {
     "data": {
      "image/png": "[encoded data removed]",
      "text/plain": [
       "<Figure size 640x480 with 1 Axes>"
      ]
     },
     "metadata": {},
     "output_type": "display_data"
    }
   ],
   "source": [
    "# plot learning history\n",
    "plt.plot(history.history['loss'], label='training Loss')\n",
    "plt.plot(history.history['val_loss'], label='validation Loss')\n",
    "plt.xlabel('epochs')\n",
    "plt.ylabel('MSE loss')\n",
    "plt.legend()\n",
    "plt.title('training vs validation loss over epochs')\n",
    "plt.show()"
   ]
  },
  {
   "cell_type": "markdown",
   "id": "c90b96c7",
   "metadata": {},
   "source": [
    "# Q2: Comparison of Deep Learning Model with Linear Regression model\n",
    "[2pts]"
   ]
  },
  {
   "cell_type": "markdown",
   "id": "80be5751",
   "metadata": {},
   "source": [
    "1. Train three separate linear regression models, one for each of the following k-mer\n",
    "representations:\n",
    "    \n",
    "● 1-mer encoding\n",
    "\n",
    "● 2-mer encoding\n",
    "\n",
    "● 3-mer encoding"
   ]
  },
  {
   "cell_type": "code",
   "execution_count": 17,
   "id": "1df06a23",
   "metadata": {},
   "outputs": [],
   "source": [
    "def lin_regress(seq,affinity):\n",
    "    # split data into training and testing\n",
    "    X_train, X_test, y_train, y_test = train_test_split(seq, affinity, test_size=0.2, random_state=22)\n",
    "    \n",
    "    # initialize model\n",
    "    model = LinearRegression()\n",
    "    \n",
    "    # fit model\n",
    "    model.fit(X_train, y_train)\n",
    "    \n",
    "    # make predictions on training and testing data\n",
    "    train_pred = model.predict(X_train)\n",
    "    test_pred = model.predict(X_test)\n",
    "    \n",
    "    # train and test loss via mse\n",
    "    mse_train_loss = mean_squared_error(y_train, train_pred)\n",
    "    mse_test_loss = mean_squared_error(y_test, test_pred)\n",
    "    \n",
    "    return mse_train_loss, mse_test_loss"
   ]
  },
  {
   "cell_type": "code",
   "execution_count": 18,
   "id": "353ccdd4",
   "metadata": {},
   "outputs": [],
   "source": [
    "#1mer was made, called X from above\n",
    "train_loss_mono, test_loss_mono = lin_regress(X,y)"
   ]
  },
  {
   "cell_type": "code",
   "execution_count": 19,
   "id": "9e9293a4",
   "metadata": {},
   "outputs": [],
   "source": [
    "#make 2mer\n",
    "di_mer = np.array([k_mer_encode(i,2) for i in sequence])"
   ]
  },
  {
   "cell_type": "code",
   "execution_count": 20,
   "id": "fa546078",
   "metadata": {},
   "outputs": [],
   "source": [
    "#make 3mer\n",
    "tri_mer = np.array([k_mer_encode(i,3) for i in sequence])"
   ]
  },
  {
   "cell_type": "code",
   "execution_count": 21,
   "id": "d1099814",
   "metadata": {},
   "outputs": [],
   "source": [
    "train_loss_di, test_loss_di = lin_regress(di_mer,y)"
   ]
  },
  {
   "cell_type": "code",
   "execution_count": 22,
   "id": "fc8fc042",
   "metadata": {},
   "outputs": [],
   "source": [
    "train_loss_tri, test_loss_tri = lin_regress(tri_mer,y)"
   ]
  },
  {
   "cell_type": "code",
   "execution_count": 23,
   "id": "12caac5b",
   "metadata": {},
   "outputs": [],
   "source": [
    "#var to store nn 1mer mse test\n",
    "nn_50_val = history.history['val_loss']"
   ]
  },
  {
   "cell_type": "code",
   "execution_count": 24,
   "id": "57814f89",
   "metadata": {},
   "outputs": [],
   "source": [
    "test_loss_nn = nn_50_val[-1]"
   ]
  },
  {
   "cell_type": "code",
   "execution_count": 25,
   "id": "01feddbc",
   "metadata": {},
   "outputs": [
    {
     "data": {
      "image/png": "[encoded data removed]",
      "text/plain": [
       "<Figure size 800x500 with 1 Axes>"
      ]
     },
     "metadata": {},
     "output_type": "display_data"
    }
   ],
   "source": [
    "mse_values = [test_loss_mono, test_loss_di, test_loss_tri, test_loss_nn]\n",
    "model_names = [\"Linear (1-mer)\", \"Linear (2-mer)\", \"Linear (3-mer)\", \"NN (1-mer)\"]\n",
    "colors = ['blue', 'green', 'orange', 'red']\n",
    "\n",
    "#bar plot\n",
    "plt.figure(figsize=(8, 5))\n",
    "bars = plt.bar(range(4), mse_values, color=colors)\n",
    "\n",
    "#add MSE values on top of bars\n",
    "for bar, mse in zip(bars, mse_values):\n",
    "    plt.text(bar.get_x() + bar.get_width()/2, bar.get_height(), f\"{mse:.3f}\", \n",
    "             ha='center', va='bottom', fontsize=12)\n",
    "\n",
    "#formatting\n",
    "plt.xlabel(\"Models\")\n",
    "plt.ylabel(\"MSE\")\n",
    "plt.title(\"MSE value comparison\")\n",
    "plt.xticks(range(4), model_names)  \n",
    "\n",
    "# add legend\n",
    "plt.legend(bars, model_names, loc=\"upper right\")\n",
    "\n",
    "plt.ylim(0, max(mse_values) + 0.02)\n",
    "plt.show()\n"
   ]
  },
  {
   "cell_type": "code",
   "execution_count": 26,
   "id": "86395652",
   "metadata": {},
   "outputs": [
    {
     "data": {
      "image/png": "[encoded data removed]",
      "text/plain": [
       "<Figure size 800x500 with 1 Axes>"
      ]
     },
     "metadata": {},
     "output_type": "display_data"
    }
   ],
   "source": [
    "feature_counts = [4, 16, 64]  \n",
    "encoding_types = [\"1-mer\", \"2-mer\", \"3-mer\"]\n",
    "colors = ['blue', 'green', 'orange']\n",
    "\n",
    "#plot\n",
    "plt.figure(figsize=(8, 5))\n",
    "bars = plt.bar(encoding_types, feature_counts, color=colors)\n",
    "\n",
    "#add feature count\n",
    "for bar, count in zip(bars, feature_counts):\n",
    "    plt.text(bar.get_x() + bar.get_width()/2, bar.get_height(), f\"{count}\", \n",
    "             ha='center', va='bottom', fontsize=12)\n",
    "\n",
    "#formatting\n",
    "plt.xlabel(\"Encoding Type\")\n",
    "plt.ylabel(\"features\")\n",
    "plt.title(\"Number of Features in Different k-mer Encodings\")\n",
    "\n",
    "plt.show()"
   ]
  },
  {
   "cell_type": "markdown",
   "id": "e7d023f6",
   "metadata": {},
   "source": [
    "Effect of k on Linear Regression: How does increasing k affect linear regression\n",
    "performance? Based on Bar Plot 2, what could be the possible disadvantages of using\n",
    "linear regression for higher k-mer values?"
   ]
  },
  {
   "cell_type": "markdown",
   "id": "1b0e1b3b",
   "metadata": {},
   "source": [
    "Increasing k improves linear regression performance. However, the possible disadvantage of using linear regression for higher k-mer values is overfitting, which could result from more data and so, more noise. "
   ]
  },
  {
   "cell_type": "markdown",
   "id": "3ae89e21",
   "metadata": {},
   "source": [
    "Deep Learning vs. Linear Regression: Does the neural network outperform all three\n",
    "linear regression models? Explain your findings and discuss the potential advantages or\n",
    "disadvantages of using deep learning for this task based on the observed results."
   ]
  },
  {
   "cell_type": "markdown",
   "id": "88412877",
   "metadata": {},
   "source": [
    "The neural network does not outperform all three linear regression models. It seems that it performs the same as linear regression for 1-mer. This suggests that the added complexity of the nn does not provide significant benefits in this case. "
   ]
  },
  {
   "cell_type": "markdown",
   "id": "64d278fc",
   "metadata": {},
   "source": [
    "# Q3: Improving Deep Learning Model with Hyperparameter Tuning [3 pts]"
   ]
  },
  {
   "cell_type": "markdown",
   "id": "97989fcb",
   "metadata": {},
   "source": [
    "In this task, you will start with the initial NN model you created in Q2 (one hidden layer, 16\n",
    "nodes) and then optimize it using hyperparameter tuning. The goal is to find the\n",
    "best-performing model and compare it with the regression models. The hyperparameter\n",
    "search may require a long execution time."
   ]
  },
  {
   "cell_type": "markdown",
   "id": "e8d90699",
   "metadata": {},
   "source": [
    "1. Tune the following hyperparameters:\n",
    "    \n",
    "● Number of hidden layers: [1, 2, 3]\n",
    "    \n",
    "● Nodes per layer: [16, 64, 128]\n",
    "    \n",
    "● Batch size: [8, 32, 256]\n",
    "    \n",
    "● Batch normalization: [Yes, No]\n",
    "    \n",
    "● Dropout rate: [0, 0.1, 0.5, 0.9]"
   ]
  },
  {
   "cell_type": "code",
   "execution_count": 27,
   "id": "5c7e74f2",
   "metadata": {},
   "outputs": [],
   "source": [
    "X_train_df = pd.DataFrame(X_train)\n",
    "y_train_df = pd.DataFrame(y_train)"
   ]
  },
  {
   "cell_type": "code",
   "execution_count": 28,
   "id": "f7add843",
   "metadata": {},
   "outputs": [
    {
     "name": "stdout",
     "output_type": "stream",
     "text": [
      "(6854, 144)\n",
      "(6854, 1)\n"
     ]
    },
    {
     "data": {
      "text/plain": [
       "RangeIndex(start=0, stop=6854, step=1)"
      ]
     },
     "execution_count": 28,
     "metadata": {},
     "output_type": "execute_result"
    }
   ],
   "source": [
    "print(X_train_df.shape)\n",
    "print(y_train_df.shape)\n",
    "X_train_df.index"
   ]
  },
  {
   "cell_type": "code",
   "execution_count": 30,
   "id": "bfe56822",
   "metadata": {},
   "outputs": [
    {
     "data": {
      "text/plain": [
       "Index([3621, 6829, 4335, 8424, 1188, 5715, 4714, 8235,  447, 2698,\n",
       "       ...\n",
       "       8322, 5578, 4426,  466, 6265, 5734, 5191, 5390,  860, 7270],\n",
       "      dtype='int64', length=6854)"
      ]
     },
     "execution_count": 30,
     "metadata": {},
     "output_type": "execute_result"
    }
   ],
   "source": [
    "y_train_df.index"
   ]
  },
  {
   "cell_type": "markdown",
   "id": "3e669760",
   "metadata": {},
   "source": [
    "2. To reduce execution time, perform hyperparameter search using only 20% of the training\n",
    "data, randomly selected instead of the full training dataset, and run 20 epochs for each\n",
    "search."
   ]
  },
  {
   "cell_type": "code",
   "execution_count": 31,
   "id": "e0522416",
   "metadata": {},
   "outputs": [],
   "source": [
    "# drop for alignment, kept getting issue w index not being found in y \n",
    "X_train_df = X_train_df.reset_index(drop=True)\n",
    "y_train_df = y_train_df.reset_index(drop=True)\n",
    "\n",
    "# get 20%\n",
    "X_train_2 = X_train_df.sample(frac=0.2, random_state=42)\n",
    "# use same index for features\n",
    "y_train_2 = y_train_df.loc[X_train_2.index]  "
   ]
  },
  {
   "cell_type": "code",
   "execution_count": 34,
   "id": "b39ca3e6",
   "metadata": {},
   "outputs": [
    {
     "name": "stdout",
     "output_type": "stream",
     "text": [
      "Index([ 469, 3855, 4776, 3027, 4635, 5338, 2900, 4523, 1393, 3235,\n",
      "       ...\n",
      "       2795, 1543, 4322, 4679, 5642, 5045, 3734, 6334,  641, 5624],\n",
      "      dtype='int64', length=1371)\n",
      "Index([ 469, 3855, 4776, 3027, 4635, 5338, 2900, 4523, 1393, 3235,\n",
      "       ...\n",
      "       2795, 1543, 4322, 4679, 5642, 5045, 3734, 6334,  641, 5624],\n",
      "      dtype='int64', length=1371)\n"
     ]
    }
   ],
   "source": [
    "# check to make dure indices line up \n",
    "print(X_train_2.index)\n",
    "print(y_train_2.index)"
   ]
  },
  {
   "cell_type": "code",
   "execution_count": 35,
   "id": "8e52e31c",
   "metadata": {},
   "outputs": [],
   "source": [
    "# function: build_model\n",
    "# parameters: hyperparameter\n",
    "# returns: modelw optimal hp\n",
    "def build_model(hp):\n",
    "    model = Sequential()\n",
    "    \n",
    "    # Number of hidden layers: [1, 2, 3]\n",
    "    hidden_layers = hp.Int('hidden_layers', min_value=1, max_value=3, step=1)\n",
    "    \n",
    "    # Nodes per layer: [16, 64, 128]\n",
    "    for _ in range(hidden_layers):\n",
    "        model.add(Dense(\n",
    "            units=hp.Choice('units', values=[16, 64, 128]),  \n",
    "            activation='relu'\n",
    "        ))\n",
    "\n",
    "    # batch normalization(yes,no)\n",
    "    if hp.Boolean('batch_norm'):\n",
    "        model.add(BatchNormalization())\n",
    "    \n",
    "    # Dropout rate: [0, 0.1, 0.5, 0.9]\n",
    "    model.add(Dropout(rate=hp.Choice('dropout', values=[0.0, 0.1, 0.5, 0.9])))\n",
    "    \n",
    "    # Output layer (1 unit for regression)\n",
    "    model.add(Dense(1))\n",
    "    \n",
    "    # Compile the model\n",
    "    model.compile(optimizer=Adam(), loss='mse')\n",
    "    return model"
   ]
  },
  {
   "cell_type": "code",
   "execution_count": 36,
   "id": "b2bdf36f",
   "metadata": {},
   "outputs": [
    {
     "name": "stdout",
     "output_type": "stream",
     "text": [
      "Reloading Tuner from keras_tuner_results/hyperparameter_tuning/tuner0.json\n",
      "best hyperparameters: {'hidden_layers': 2, 'units': 128, 'batch_norm': False, 'dropout': 0.5, 'tuner/epochs': 20, 'tuner/initial_epoch': 7, 'tuner/bracket': 2, 'tuner/round': 2, 'tuner/trial_id': '0015'}\n",
      "\u001b[1m54/54\u001b[0m \u001b[32m━━━━━━━━━━━━━━━━━━━━\u001b[0m\u001b[37m\u001b[0m \u001b[1m0s\u001b[0m 660us/step\n",
      "final MSE with best hyperparametrers 0.005844042649006581\n"
     ]
    },
    {
     "name": "stderr",
     "output_type": "stream",
     "text": [
      "/Users/peytonhall/miniconda3/envs/qbio_490_pbhall/lib/python3.9/site-packages/keras/src/saving/saving_lib.py:719: UserWarning: Skipping variable loading for optimizer 'adam', because it has 2 variables whereas the saved optimizer has 14 variables. \n",
      "  saveable.load_own_variables(weights_store.get(inner_path))\n"
     ]
    }
   ],
   "source": [
    "# tuner\n",
    "tuner = kt.Hyperband(\n",
    "    build_model,\n",
    "    objective='val_loss',\n",
    "    # store the data of each trial\n",
    "    max_epochs=20,\n",
    "    factor=3,\n",
    "    #hyperband_iterations=1,\n",
    "    directory='keras_tuner_results',\n",
    "    project_name='hyperparameter_tuning'\n",
    ")\n",
    "\n",
    "# tuner search\n",
    "tuner.search(X_train_2, y_train_2, epochs=20, batch_size=32, validation_data=(X_test, y_test))\n",
    "\n",
    "# Get best model and hyperparameters\n",
    "best_model = tuner.get_best_models(num_models=1)[0]\n",
    "best_hyperparameters = tuner.get_best_hyperparameters(num_trials=1)[0]\n",
    "\n",
    "print(\"best hyperparameters:\", best_hyperparameters.values)\n",
    "\n",
    "# evaluate best model on test data\n",
    "final_predictions = best_model.predict(X_test)\n",
    "final_mse = mean_squared_error(y_test, final_predictions)\n",
    "print(\"final MSE with best hyperparametrers\", final_mse)"
   ]
  },
  {
   "cell_type": "markdown",
   "id": "b0956965",
   "metadata": {},
   "source": [
    "3. Report the best parameters found from the hyperparameter search."
   ]
  },
  {
   "cell_type": "markdown",
   "id": "1426a663",
   "metadata": {},
   "source": [
    "The best parameters found from the hp search was 2 hidden layers, 128 nodes per layer, no batch normalization, and a dropout rate of 0.5. "
   ]
  },
  {
   "cell_type": "code",
   "execution_count": 37,
   "id": "39d376e9",
   "metadata": {},
   "outputs": [],
   "source": [
    "trials = tuner.oracle.trials.values()\n",
    "\n",
    "# store the data of each trial\n",
    "trial_data = []\n",
    "\n",
    "# iterate + collect hyperparameters and validation loss \n",
    "for trial in trials:\n",
    "    trial_params = trial.hyperparameters.values  # Get hyperparameters for the trial\n",
    "    \n",
    "    # pull for box plot\n",
    "    relevant_params = {\n",
    "        'hidden_layers': trial_params['hidden_layers'],\n",
    "        'nodes': trial_params['units'],\n",
    "        'batch_norm': trial_params['batch_norm'],\n",
    "        'dropout': trial_params['dropout']\n",
    "    }\n",
    "    \n",
    "    # get val loss history then min val loss\n",
    "    val_loss_history = trial.metrics.get_history('val_loss') \n",
    "    val_loss = trial.score\n",
    "#     val_loss=min([i.value for i in val_loss_history])\n",
    "    \n",
    "    # Append hyperparameters and val loss to trial_data\n",
    "    #trial_data.append(list(relevant_params.values()) + [val_loss])\n",
    "    trial_data.append([relevant_params['hidden_layers'], relevant_params['nodes'], \n",
    "                       relevant_params['batch_norm'], relevant_params['dropout'], \n",
    "                       val_loss])\n",
    "    \n",
    "# define cols for the df\n",
    "columns = ['hidden_layers', 'units', 'batch_norm', 'dropout', 'val_loss']\n",
    "# results_df\n",
    "results_df = pd.DataFrame(trial_data, columns=columns)"
   ]
  },
  {
   "cell_type": "code",
   "execution_count": 38,
   "id": "036c17a0",
   "metadata": {},
   "outputs": [
    {
     "name": "stdout",
     "output_type": "stream",
     "text": [
      "{'hidden_layers': 3, 'units': 128, 'batch_norm': False, 'dropout': 0.1, 'tuner/epochs': 20, 'tuner/initial_epoch': 0, 'tuner/bracket': 0, 'tuner/round': 0}\n"
     ]
    }
   ],
   "source": [
    "print(trial.hyperparameters.values)"
   ]
  },
  {
   "cell_type": "code",
   "execution_count": 39,
   "id": "7a752ce3",
   "metadata": {},
   "outputs": [
    {
     "name": "stdout",
     "output_type": "stream",
     "text": [
      "   hidden_layers  units  batch_norm  dropout  val_loss\n",
      "0              2     16       False      0.9  0.085021\n",
      "1              1     16       False      0.1  0.033511\n",
      "2              2    128       False      0.5  0.021202\n",
      "3              2    128       False      0.1  0.015469\n",
      "4              1    128       False      0.9  0.047452\n",
      "hidden_layers      int64\n",
      "units              int64\n",
      "batch_norm          bool\n",
      "dropout          float64\n",
      "val_loss         float64\n",
      "dtype: object\n"
     ]
    }
   ],
   "source": [
    "print(results_df.head())\n",
    "print(results_df.dtypes)"
   ]
  },
  {
   "cell_type": "code",
   "execution_count": 52,
   "id": "45ff07a2",
   "metadata": {},
   "outputs": [
    {
     "data": {
      "text/html": [
       "<div>\n",
       "<style scoped>\n",
       "    .dataframe tbody tr th:only-of-type {\n",
       "        vertical-align: middle;\n",
       "    }\n",
       "\n",
       "    .dataframe tbody tr th {\n",
       "        vertical-align: top;\n",
       "    }\n",
       "\n",
       "    .dataframe thead th {\n",
       "        text-align: right;\n",
       "    }\n",
       "</style>\n",
       "<table border=\"1\" class=\"dataframe\">\n",
       "  <thead>\n",
       "    <tr style=\"text-align: right;\">\n",
       "      <th></th>\n",
       "      <th>hidden_layers</th>\n",
       "      <th>units</th>\n",
       "      <th>batch_norm</th>\n",
       "      <th>dropout</th>\n",
       "      <th>val_loss</th>\n",
       "    </tr>\n",
       "  </thead>\n",
       "  <tbody>\n",
       "    <tr>\n",
       "      <th>0</th>\n",
       "      <td>2</td>\n",
       "      <td>16</td>\n",
       "      <td>False</td>\n",
       "      <td>0.9</td>\n",
       "      <td>0.085021</td>\n",
       "    </tr>\n",
       "    <tr>\n",
       "      <th>1</th>\n",
       "      <td>1</td>\n",
       "      <td>16</td>\n",
       "      <td>False</td>\n",
       "      <td>0.1</td>\n",
       "      <td>0.033511</td>\n",
       "    </tr>\n",
       "    <tr>\n",
       "      <th>2</th>\n",
       "      <td>2</td>\n",
       "      <td>128</td>\n",
       "      <td>False</td>\n",
       "      <td>0.5</td>\n",
       "      <td>0.021202</td>\n",
       "    </tr>\n",
       "    <tr>\n",
       "      <th>3</th>\n",
       "      <td>2</td>\n",
       "      <td>128</td>\n",
       "      <td>False</td>\n",
       "      <td>0.1</td>\n",
       "      <td>0.015469</td>\n",
       "    </tr>\n",
       "    <tr>\n",
       "      <th>4</th>\n",
       "      <td>1</td>\n",
       "      <td>128</td>\n",
       "      <td>False</td>\n",
       "      <td>0.9</td>\n",
       "      <td>0.047452</td>\n",
       "    </tr>\n",
       "    <tr>\n",
       "      <th>5</th>\n",
       "      <td>3</td>\n",
       "      <td>16</td>\n",
       "      <td>True</td>\n",
       "      <td>0.9</td>\n",
       "      <td>0.041767</td>\n",
       "    </tr>\n",
       "    <tr>\n",
       "      <th>6</th>\n",
       "      <td>3</td>\n",
       "      <td>64</td>\n",
       "      <td>True</td>\n",
       "      <td>0.9</td>\n",
       "      <td>0.102177</td>\n",
       "    </tr>\n",
       "    <tr>\n",
       "      <th>7</th>\n",
       "      <td>1</td>\n",
       "      <td>16</td>\n",
       "      <td>True</td>\n",
       "      <td>0.1</td>\n",
       "      <td>0.056390</td>\n",
       "    </tr>\n",
       "    <tr>\n",
       "      <th>8</th>\n",
       "      <td>3</td>\n",
       "      <td>64</td>\n",
       "      <td>False</td>\n",
       "      <td>0.1</td>\n",
       "      <td>0.020312</td>\n",
       "    </tr>\n",
       "    <tr>\n",
       "      <th>9</th>\n",
       "      <td>3</td>\n",
       "      <td>128</td>\n",
       "      <td>True</td>\n",
       "      <td>0.1</td>\n",
       "      <td>0.025452</td>\n",
       "    </tr>\n",
       "    <tr>\n",
       "      <th>10</th>\n",
       "      <td>3</td>\n",
       "      <td>64</td>\n",
       "      <td>False</td>\n",
       "      <td>0.1</td>\n",
       "      <td>0.006532</td>\n",
       "    </tr>\n",
       "    <tr>\n",
       "      <th>11</th>\n",
       "      <td>2</td>\n",
       "      <td>64</td>\n",
       "      <td>False</td>\n",
       "      <td>0.0</td>\n",
       "      <td>0.018272</td>\n",
       "    </tr>\n",
       "    <tr>\n",
       "      <th>12</th>\n",
       "      <td>2</td>\n",
       "      <td>16</td>\n",
       "      <td>False</td>\n",
       "      <td>0.0</td>\n",
       "      <td>0.008924</td>\n",
       "    </tr>\n",
       "    <tr>\n",
       "      <th>13</th>\n",
       "      <td>2</td>\n",
       "      <td>128</td>\n",
       "      <td>True</td>\n",
       "      <td>0.1</td>\n",
       "      <td>0.051234</td>\n",
       "    </tr>\n",
       "    <tr>\n",
       "      <th>14</th>\n",
       "      <td>2</td>\n",
       "      <td>128</td>\n",
       "      <td>False</td>\n",
       "      <td>0.5</td>\n",
       "      <td>0.005844</td>\n",
       "    </tr>\n",
       "    <tr>\n",
       "      <th>15</th>\n",
       "      <td>2</td>\n",
       "      <td>128</td>\n",
       "      <td>False</td>\n",
       "      <td>0.5</td>\n",
       "      <td>0.010570</td>\n",
       "    </tr>\n",
       "    <tr>\n",
       "      <th>16</th>\n",
       "      <td>3</td>\n",
       "      <td>128</td>\n",
       "      <td>False</td>\n",
       "      <td>0.9</td>\n",
       "      <td>0.029522</td>\n",
       "    </tr>\n",
       "    <tr>\n",
       "      <th>17</th>\n",
       "      <td>3</td>\n",
       "      <td>128</td>\n",
       "      <td>True</td>\n",
       "      <td>0.1</td>\n",
       "      <td>0.010902</td>\n",
       "    </tr>\n",
       "    <tr>\n",
       "      <th>18</th>\n",
       "      <td>3</td>\n",
       "      <td>64</td>\n",
       "      <td>False</td>\n",
       "      <td>0.9</td>\n",
       "      <td>0.023868</td>\n",
       "    </tr>\n",
       "    <tr>\n",
       "      <th>19</th>\n",
       "      <td>3</td>\n",
       "      <td>64</td>\n",
       "      <td>False</td>\n",
       "      <td>0.1</td>\n",
       "      <td>0.009266</td>\n",
       "    </tr>\n",
       "    <tr>\n",
       "      <th>20</th>\n",
       "      <td>2</td>\n",
       "      <td>64</td>\n",
       "      <td>True</td>\n",
       "      <td>0.5</td>\n",
       "      <td>0.049740</td>\n",
       "    </tr>\n",
       "    <tr>\n",
       "      <th>21</th>\n",
       "      <td>3</td>\n",
       "      <td>16</td>\n",
       "      <td>False</td>\n",
       "      <td>0.0</td>\n",
       "      <td>0.017293</td>\n",
       "    </tr>\n",
       "    <tr>\n",
       "      <th>22</th>\n",
       "      <td>2</td>\n",
       "      <td>128</td>\n",
       "      <td>False</td>\n",
       "      <td>0.1</td>\n",
       "      <td>0.010849</td>\n",
       "    </tr>\n",
       "    <tr>\n",
       "      <th>23</th>\n",
       "      <td>1</td>\n",
       "      <td>16</td>\n",
       "      <td>True</td>\n",
       "      <td>0.9</td>\n",
       "      <td>0.513269</td>\n",
       "    </tr>\n",
       "    <tr>\n",
       "      <th>24</th>\n",
       "      <td>3</td>\n",
       "      <td>16</td>\n",
       "      <td>False</td>\n",
       "      <td>0.0</td>\n",
       "      <td>0.006763</td>\n",
       "    </tr>\n",
       "    <tr>\n",
       "      <th>25</th>\n",
       "      <td>3</td>\n",
       "      <td>16</td>\n",
       "      <td>False</td>\n",
       "      <td>0.9</td>\n",
       "      <td>0.040331</td>\n",
       "    </tr>\n",
       "    <tr>\n",
       "      <th>26</th>\n",
       "      <td>2</td>\n",
       "      <td>16</td>\n",
       "      <td>True</td>\n",
       "      <td>0.9</td>\n",
       "      <td>0.165303</td>\n",
       "    </tr>\n",
       "    <tr>\n",
       "      <th>27</th>\n",
       "      <td>2</td>\n",
       "      <td>64</td>\n",
       "      <td>False</td>\n",
       "      <td>0.0</td>\n",
       "      <td>0.014093</td>\n",
       "    </tr>\n",
       "    <tr>\n",
       "      <th>28</th>\n",
       "      <td>1</td>\n",
       "      <td>128</td>\n",
       "      <td>False</td>\n",
       "      <td>0.1</td>\n",
       "      <td>0.027252</td>\n",
       "    </tr>\n",
       "    <tr>\n",
       "      <th>29</th>\n",
       "      <td>3</td>\n",
       "      <td>128</td>\n",
       "      <td>False</td>\n",
       "      <td>0.1</td>\n",
       "      <td>0.007405</td>\n",
       "    </tr>\n",
       "  </tbody>\n",
       "</table>\n",
       "</div>"
      ],
      "text/plain": [
       "    hidden_layers  units  batch_norm  dropout  val_loss\n",
       "0               2     16       False      0.9  0.085021\n",
       "1               1     16       False      0.1  0.033511\n",
       "2               2    128       False      0.5  0.021202\n",
       "3               2    128       False      0.1  0.015469\n",
       "4               1    128       False      0.9  0.047452\n",
       "5               3     16        True      0.9  0.041767\n",
       "6               3     64        True      0.9  0.102177\n",
       "7               1     16        True      0.1  0.056390\n",
       "8               3     64       False      0.1  0.020312\n",
       "9               3    128        True      0.1  0.025452\n",
       "10              3     64       False      0.1  0.006532\n",
       "11              2     64       False      0.0  0.018272\n",
       "12              2     16       False      0.0  0.008924\n",
       "13              2    128        True      0.1  0.051234\n",
       "14              2    128       False      0.5  0.005844\n",
       "15              2    128       False      0.5  0.010570\n",
       "16              3    128       False      0.9  0.029522\n",
       "17              3    128        True      0.1  0.010902\n",
       "18              3     64       False      0.9  0.023868\n",
       "19              3     64       False      0.1  0.009266\n",
       "20              2     64        True      0.5  0.049740\n",
       "21              3     16       False      0.0  0.017293\n",
       "22              2    128       False      0.1  0.010849\n",
       "23              1     16        True      0.9  0.513269\n",
       "24              3     16       False      0.0  0.006763\n",
       "25              3     16       False      0.9  0.040331\n",
       "26              2     16        True      0.9  0.165303\n",
       "27              2     64       False      0.0  0.014093\n",
       "28              1    128       False      0.1  0.027252\n",
       "29              3    128       False      0.1  0.007405"
      ]
     },
     "execution_count": 52,
     "metadata": {},
     "output_type": "execute_result"
    }
   ],
   "source": [
    "results_df"
   ]
  },
  {
   "cell_type": "markdown",
   "id": "1382de48",
   "metadata": {},
   "source": [
    "4. Report the best parameters found from the hyperparameter search.\n",
    "Create Box Plot 1: Show model performance for different hyperparameter settings. The\n",
    "x-axis represents the hyperparameters, and the y-axis represents MSE. The same type\n",
    "of hyperparameters should have the same box color or be highlighted clearly for\n",
    "better readability."
   ]
  },
  {
   "cell_type": "code",
   "execution_count": 45,
   "id": "6b8b0950",
   "metadata": {},
   "outputs": [
    {
     "data": {
      "image/png": "[encoded data removed]",
      "text/plain": [
       "<Figure size 1000x600 with 1 Axes>"
      ]
     },
     "metadata": {},
     "output_type": "display_data"
    }
   ],
   "source": [
    "import pandas as pd\n",
    "import seaborn as sns\n",
    "import matplotlib.pyplot as plt\n",
    "\n",
    "# combine df to have hyperparam against value \n",
    "melted_df = results_df.melt(id_vars=['val_loss'], \n",
    "                            value_vars=['hidden_layers', 'units', 'batch_norm', 'dropout'], \n",
    "                            var_name='Hyperparameter', \n",
    "                            value_name='Value')\n",
    "\n",
    "# categorical variables to strings for proper grouping\n",
    "melted_df['Value'] = melted_df['Value'].astype(str)\n",
    "\n",
    "# plotting\n",
    "plt.figure(figsize=(10, 6))\n",
    "sns.boxplot(x='Hyperparameter', y='val_loss', hue='Value', data=melted_df)\n",
    "plt.title(\"Validation Loss across Hyperparameters\")\n",
    "plt.legend(title=\"Value\", loc='upper left') \n",
    "plt.show()"
   ]
  },
  {
   "cell_type": "markdown",
   "id": "369fc15d",
   "metadata": {},
   "source": [
    "5. With the best parameters, rebuild the model using the full training data."
   ]
  },
  {
   "cell_type": "code",
   "execution_count": 46,
   "id": "10d99102",
   "metadata": {},
   "outputs": [
    {
     "name": "stdout",
     "output_type": "stream",
     "text": [
      "Epoch 1/50\n",
      "\u001b[1m35/35\u001b[0m \u001b[32m━━━━━━━━━━━━━━━━━━━━\u001b[0m\u001b[37m\u001b[0m \u001b[1m1s\u001b[0m 3ms/step - loss: 0.1552 - val_loss: 0.0276\n",
      "Epoch 2/50\n",
      "\u001b[1m35/35\u001b[0m \u001b[32m━━━━━━━━━━━━━━━━━━━━\u001b[0m\u001b[37m\u001b[0m \u001b[1m0s\u001b[0m 1ms/step - loss: 0.0440 - val_loss: 0.0242\n",
      "Epoch 3/50\n",
      "\u001b[1m35/35\u001b[0m \u001b[32m━━━━━━━━━━━━━━━━━━━━\u001b[0m\u001b[37m\u001b[0m \u001b[1m0s\u001b[0m 1ms/step - loss: 0.0341 - val_loss: 0.0207\n",
      "Epoch 4/50\n",
      "\u001b[1m35/35\u001b[0m \u001b[32m━━━━━━━━━━━━━━━━━━━━\u001b[0m\u001b[37m\u001b[0m \u001b[1m0s\u001b[0m 1ms/step - loss: 0.0311 - val_loss: 0.0184\n",
      "Epoch 5/50\n",
      "\u001b[1m35/35\u001b[0m \u001b[32m━━━━━━━━━━━━━━━━━━━━\u001b[0m\u001b[37m\u001b[0m \u001b[1m0s\u001b[0m 1ms/step - loss: 0.0217 - val_loss: 0.0158\n",
      "Epoch 6/50\n",
      "\u001b[1m35/35\u001b[0m \u001b[32m━━━━━━━━━━━━━━━━━━━━\u001b[0m\u001b[37m\u001b[0m \u001b[1m0s\u001b[0m 1ms/step - loss: 0.0194 - val_loss: 0.0143\n",
      "Epoch 7/50\n",
      "\u001b[1m35/35\u001b[0m \u001b[32m━━━━━━━━━━━━━━━━━━━━\u001b[0m\u001b[37m\u001b[0m \u001b[1m0s\u001b[0m 1ms/step - loss: 0.0145 - val_loss: 0.0126\n",
      "Epoch 8/50\n",
      "\u001b[1m35/35\u001b[0m \u001b[32m━━━━━━━━━━━━━━━━━━━━\u001b[0m\u001b[37m\u001b[0m \u001b[1m0s\u001b[0m 1ms/step - loss: 0.0147 - val_loss: 0.0120\n",
      "Epoch 9/50\n",
      "\u001b[1m35/35\u001b[0m \u001b[32m━━━━━━━━━━━━━━━━━━━━\u001b[0m\u001b[37m\u001b[0m \u001b[1m0s\u001b[0m 1ms/step - loss: 0.0131 - val_loss: 0.0111\n",
      "Epoch 10/50\n",
      "\u001b[1m35/35\u001b[0m \u001b[32m━━━━━━━━━━━━━━━━━━━━\u001b[0m\u001b[37m\u001b[0m \u001b[1m0s\u001b[0m 1ms/step - loss: 0.0112 - val_loss: 0.0110\n",
      "Epoch 11/50\n",
      "\u001b[1m35/35\u001b[0m \u001b[32m━━━━━━━━━━━━━━━━━━━━\u001b[0m\u001b[37m\u001b[0m \u001b[1m0s\u001b[0m 1ms/step - loss: 0.0113 - val_loss: 0.0100\n",
      "Epoch 12/50\n",
      "\u001b[1m35/35\u001b[0m \u001b[32m━━━━━━━━━━━━━━━━━━━━\u001b[0m\u001b[37m\u001b[0m \u001b[1m0s\u001b[0m 1ms/step - loss: 0.0098 - val_loss: 0.0096\n",
      "Epoch 13/50\n",
      "\u001b[1m35/35\u001b[0m \u001b[32m━━━━━━━━━━━━━━━━━━━━\u001b[0m\u001b[37m\u001b[0m \u001b[1m0s\u001b[0m 1ms/step - loss: 0.0090 - val_loss: 0.0092\n",
      "Epoch 14/50\n",
      "\u001b[1m35/35\u001b[0m \u001b[32m━━━━━━━━━━━━━━━━━━━━\u001b[0m\u001b[37m\u001b[0m \u001b[1m0s\u001b[0m 1ms/step - loss: 0.0086 - val_loss: 0.0085\n",
      "Epoch 15/50\n",
      "\u001b[1m35/35\u001b[0m \u001b[32m━━━━━━━━━━━━━━━━━━━━\u001b[0m\u001b[37m\u001b[0m \u001b[1m0s\u001b[0m 1ms/step - loss: 0.0095 - val_loss: 0.0082\n",
      "Epoch 16/50\n",
      "\u001b[1m35/35\u001b[0m \u001b[32m━━━━━━━━━━━━━━━━━━━━\u001b[0m\u001b[37m\u001b[0m \u001b[1m0s\u001b[0m 1ms/step - loss: 0.0078 - val_loss: 0.0079\n",
      "Epoch 17/50\n",
      "\u001b[1m35/35\u001b[0m \u001b[32m━━━━━━━━━━━━━━━━━━━━\u001b[0m\u001b[37m\u001b[0m \u001b[1m0s\u001b[0m 1ms/step - loss: 0.0069 - val_loss: 0.0077\n",
      "Epoch 18/50\n",
      "\u001b[1m35/35\u001b[0m \u001b[32m━━━━━━━━━━━━━━━━━━━━\u001b[0m\u001b[37m\u001b[0m \u001b[1m0s\u001b[0m 1ms/step - loss: 0.0072 - val_loss: 0.0075\n",
      "Epoch 19/50\n",
      "\u001b[1m35/35\u001b[0m \u001b[32m━━━━━━━━━━━━━━━━━━━━\u001b[0m\u001b[37m\u001b[0m \u001b[1m0s\u001b[0m 1ms/step - loss: 0.0062 - val_loss: 0.0068\n",
      "Epoch 20/50\n",
      "\u001b[1m35/35\u001b[0m \u001b[32m━━━━━━━━━━━━━━━━━━━━\u001b[0m\u001b[37m\u001b[0m \u001b[1m0s\u001b[0m 1ms/step - loss: 0.0065 - val_loss: 0.0073\n",
      "Epoch 21/50\n",
      "\u001b[1m35/35\u001b[0m \u001b[32m━━━━━━━━━━━━━━━━━━━━\u001b[0m\u001b[37m\u001b[0m \u001b[1m0s\u001b[0m 1ms/step - loss: 0.0055 - val_loss: 0.0070\n",
      "Epoch 22/50\n",
      "\u001b[1m35/35\u001b[0m \u001b[32m━━━━━━━━━━━━━━━━━━━━\u001b[0m\u001b[37m\u001b[0m \u001b[1m0s\u001b[0m 1ms/step - loss: 0.0049 - val_loss: 0.0071\n",
      "Epoch 23/50\n",
      "\u001b[1m35/35\u001b[0m \u001b[32m━━━━━━━━━━━━━━━━━━━━\u001b[0m\u001b[37m\u001b[0m \u001b[1m0s\u001b[0m 1ms/step - loss: 0.0068 - val_loss: 0.0070\n",
      "Epoch 24/50\n",
      "\u001b[1m35/35\u001b[0m \u001b[32m━━━━━━━━━━━━━━━━━━━━\u001b[0m\u001b[37m\u001b[0m \u001b[1m0s\u001b[0m 2ms/step - loss: 0.0056 - val_loss: 0.0076\n",
      "Epoch 25/50\n",
      "\u001b[1m35/35\u001b[0m \u001b[32m━━━━━━━━━━━━━━━━━━━━\u001b[0m\u001b[37m\u001b[0m \u001b[1m0s\u001b[0m 1ms/step - loss: 0.0046 - val_loss: 0.0066\n",
      "Epoch 26/50\n",
      "\u001b[1m35/35\u001b[0m \u001b[32m━━━━━━━━━━━━━━━━━━━━\u001b[0m\u001b[37m\u001b[0m \u001b[1m0s\u001b[0m 1ms/step - loss: 0.0046 - val_loss: 0.0068\n",
      "Epoch 27/50\n",
      "\u001b[1m35/35\u001b[0m \u001b[32m━━━━━━━━━━━━━━━━━━━━\u001b[0m\u001b[37m\u001b[0m \u001b[1m0s\u001b[0m 1ms/step - loss: 0.0045 - val_loss: 0.0065\n",
      "Epoch 28/50\n",
      "\u001b[1m35/35\u001b[0m \u001b[32m━━━━━━━━━━━━━━━━━━━━\u001b[0m\u001b[37m\u001b[0m \u001b[1m0s\u001b[0m 1ms/step - loss: 0.0046 - val_loss: 0.0067\n",
      "Epoch 29/50\n",
      "\u001b[1m35/35\u001b[0m \u001b[32m━━━━━━━━━━━━━━━━━━━━\u001b[0m\u001b[37m\u001b[0m \u001b[1m0s\u001b[0m 1ms/step - loss: 0.0039 - val_loss: 0.0067\n",
      "Epoch 30/50\n",
      "\u001b[1m35/35\u001b[0m \u001b[32m━━━━━━━━━━━━━━━━━━━━\u001b[0m\u001b[37m\u001b[0m \u001b[1m0s\u001b[0m 1ms/step - loss: 0.0045 - val_loss: 0.0070\n",
      "Epoch 31/50\n",
      "\u001b[1m35/35\u001b[0m \u001b[32m━━━━━━━━━━━━━━━━━━━━\u001b[0m\u001b[37m\u001b[0m \u001b[1m0s\u001b[0m 1ms/step - loss: 0.0034 - val_loss: 0.0069\n",
      "Epoch 32/50\n",
      "\u001b[1m35/35\u001b[0m \u001b[32m━━━━━━━━━━━━━━━━━━━━\u001b[0m\u001b[37m\u001b[0m \u001b[1m0s\u001b[0m 1ms/step - loss: 0.0042 - val_loss: 0.0064\n",
      "Epoch 33/50\n",
      "\u001b[1m35/35\u001b[0m \u001b[32m━━━━━━━━━━━━━━━━━━━━\u001b[0m\u001b[37m\u001b[0m \u001b[1m0s\u001b[0m 1ms/step - loss: 0.0037 - val_loss: 0.0066\n",
      "Epoch 34/50\n",
      "\u001b[1m35/35\u001b[0m \u001b[32m━━━━━━━━━━━━━━━━━━━━\u001b[0m\u001b[37m\u001b[0m \u001b[1m0s\u001b[0m 1ms/step - loss: 0.0038 - val_loss: 0.0064\n",
      "Epoch 35/50\n",
      "\u001b[1m35/35\u001b[0m \u001b[32m━━━━━━━━━━━━━━━━━━━━\u001b[0m\u001b[37m\u001b[0m \u001b[1m0s\u001b[0m 1ms/step - loss: 0.0039 - val_loss: 0.0065\n",
      "Epoch 36/50\n",
      "\u001b[1m35/35\u001b[0m \u001b[32m━━━━━━━━━━━━━━━━━━━━\u001b[0m\u001b[37m\u001b[0m \u001b[1m0s\u001b[0m 1ms/step - loss: 0.0032 - val_loss: 0.0065\n",
      "Epoch 37/50\n",
      "\u001b[1m35/35\u001b[0m \u001b[32m━━━━━━━━━━━━━━━━━━━━\u001b[0m\u001b[37m\u001b[0m \u001b[1m0s\u001b[0m 1ms/step - loss: 0.0031 - val_loss: 0.0064\n",
      "Epoch 38/50\n",
      "\u001b[1m35/35\u001b[0m \u001b[32m━━━━━━━━━━━━━━━━━━━━\u001b[0m\u001b[37m\u001b[0m \u001b[1m0s\u001b[0m 1ms/step - loss: 0.0033 - val_loss: 0.0063\n",
      "Epoch 39/50\n",
      "\u001b[1m35/35\u001b[0m \u001b[32m━━━━━━━━━━━━━━━━━━━━\u001b[0m\u001b[37m\u001b[0m \u001b[1m0s\u001b[0m 1ms/step - loss: 0.0030 - val_loss: 0.0066\n",
      "Epoch 40/50\n",
      "\u001b[1m35/35\u001b[0m \u001b[32m━━━━━━━━━━━━━━━━━━━━\u001b[0m\u001b[37m\u001b[0m \u001b[1m0s\u001b[0m 1ms/step - loss: 0.0033 - val_loss: 0.0067\n",
      "Epoch 41/50\n",
      "\u001b[1m35/35\u001b[0m \u001b[32m━━━━━━━━━━━━━━━━━━━━\u001b[0m\u001b[37m\u001b[0m \u001b[1m0s\u001b[0m 1ms/step - loss: 0.0034 - val_loss: 0.0060\n",
      "Epoch 42/50\n",
      "\u001b[1m35/35\u001b[0m \u001b[32m━━━━━━━━━━━━━━━━━━━━\u001b[0m\u001b[37m\u001b[0m \u001b[1m0s\u001b[0m 1ms/step - loss: 0.0030 - val_loss: 0.0063\n",
      "Epoch 43/50\n",
      "\u001b[1m35/35\u001b[0m \u001b[32m━━━━━━━━━━━━━━━━━━━━\u001b[0m\u001b[37m\u001b[0m \u001b[1m0s\u001b[0m 1ms/step - loss: 0.0028 - val_loss: 0.0061\n",
      "Epoch 44/50\n",
      "\u001b[1m35/35\u001b[0m \u001b[32m━━━━━━━━━━━━━━━━━━━━\u001b[0m\u001b[37m\u001b[0m \u001b[1m0s\u001b[0m 1ms/step - loss: 0.0026 - val_loss: 0.0057\n",
      "Epoch 45/50\n",
      "\u001b[1m35/35\u001b[0m \u001b[32m━━━━━━━━━━━━━━━━━━━━\u001b[0m\u001b[37m\u001b[0m \u001b[1m0s\u001b[0m 1ms/step - loss: 0.0032 - val_loss: 0.0059\n",
      "Epoch 46/50\n",
      "\u001b[1m35/35\u001b[0m \u001b[32m━━━━━━━━━━━━━━━━━━━━\u001b[0m\u001b[37m\u001b[0m \u001b[1m0s\u001b[0m 1ms/step - loss: 0.0032 - val_loss: 0.0059\n",
      "Epoch 47/50\n",
      "\u001b[1m35/35\u001b[0m \u001b[32m━━━━━━━━━━━━━━━━━━━━\u001b[0m\u001b[37m\u001b[0m \u001b[1m0s\u001b[0m 1ms/step - loss: 0.0028 - val_loss: 0.0058\n",
      "Epoch 48/50\n",
      "\u001b[1m35/35\u001b[0m \u001b[32m━━━━━━━━━━━━━━━━━━━━\u001b[0m\u001b[37m\u001b[0m \u001b[1m0s\u001b[0m 1ms/step - loss: 0.0024 - val_loss: 0.0054\n",
      "Epoch 49/50\n",
      "\u001b[1m35/35\u001b[0m \u001b[32m━━━━━━━━━━━━━━━━━━━━\u001b[0m\u001b[37m\u001b[0m \u001b[1m0s\u001b[0m 1ms/step - loss: 0.0023 - val_loss: 0.0059\n",
      "Epoch 50/50\n",
      "\u001b[1m35/35\u001b[0m \u001b[32m━━━━━━━━━━━━━━━━━━━━\u001b[0m\u001b[37m\u001b[0m \u001b[1m0s\u001b[0m 1ms/step - loss: 0.0025 - val_loss: 0.0055\n"
     ]
    }
   ],
   "source": [
    "\n",
    "# pull best hyperparams to rebuild\n",
    "rebuilt_model = tuner.hypermodel.build(best_hyperparameters)\n",
    "\n",
    "# train the model on the full data \n",
    "history = rebuilt_model.fit(X_train_2, y_train_2, epochs=50, batch_size=32, validation_split=0.2)"
   ]
  },
  {
   "cell_type": "code",
   "execution_count": 47,
   "id": "93bf765f",
   "metadata": {},
   "outputs": [],
   "source": [
    "final_val_loss = history.history['val_loss'][-1]"
   ]
  },
  {
   "cell_type": "markdown",
   "id": "74b35af1",
   "metadata": {},
   "source": [
    "6. Extend Bar Plot 1 to include the best deep learning model along with the other four\n",
    "models."
   ]
  },
  {
   "cell_type": "code",
   "execution_count": 64,
   "id": "d6865168",
   "metadata": {},
   "outputs": [
    {
     "data": {
      "image/png": "[encoded data removed]",
      "text/plain": [
       "<Figure size 1000x600 with 1 Axes>"
      ]
     },
     "metadata": {},
     "output_type": "display_data"
    }
   ],
   "source": [
    "# dict to hold hp \n",
    "best_model_data = {\n",
    "    'hidden_layers': best_hyperparameters['hidden_layers'],\n",
    "    'units': best_hyperparameters['units'],\n",
    "    'batch_norm': best_hyperparameters['batch_norm'],\n",
    "    'dropout': best_hyperparameters['dropout'],\n",
    "    'val_loss': final_val_loss\n",
    "}\n",
    "\n",
    "# dict to dataframe \n",
    "best_model_df = pd.DataFrame([best_model_data])\n",
    "\n",
    "# append best model data to results df\n",
    "final_df = pd.concat([results_df, best_model_df], ignore_index=True)\n",
    "\n",
    "# melt again for plotting\n",
    "melt_2_df = final_df.melt(id_vars=['val_loss'], \n",
    "                            value_vars=['hidden_layers', 'units', 'batch_norm', 'dropout'], \n",
    "                            var_name='Hyperparameter', \n",
    "                            value_name='Value')\n",
    "\n",
    "#melt_2_df['Value'] = melt_2_df['Value'].astype(str)\n",
    "\n",
    "# Now, add the best model as a separate row for plotting\n",
    "best_model_row = pd.DataFrame([{\n",
    "    'Hyperparameter': 'Best Model', \n",
    "    'val_loss': final_val_loss, \n",
    "    'Value': 'Best Model'  \n",
    "}])\n",
    "\n",
    "#new df\n",
    "melt_3_df = pd.concat([melt_2_df, best_model_row], ignore_index=True)\n",
    "\n",
    "# plotting\n",
    "plt.figure(figsize=(10, 6))\n",
    "sns.boxplot(x='Hyperparameter', y='val_loss', hue='Value', data=melt_3_df)\n",
    "\n",
    "# add in dot using scatter to indicate best model loss\n",
    "plt.scatter(x=['Best Model'] * len(best_model_row), y=[final_val_loss] * len(best_model_row), color='red', label='Best Model', zorder=10)\n",
    "\n",
    "plt.title(\"Validation loss across Hyperparameters and best model\")\n",
    "plt.legend(title=\"Value\", loc='upper left')\n",
    "plt.show()"
   ]
  },
  {
   "cell_type": "code",
   "execution_count": null,
   "id": "b3bb3634",
   "metadata": {},
   "outputs": [],
   "source": [
    "# converted vars to categorical, so 0 is no, 1 is yes for batch norm"
   ]
  },
  {
   "cell_type": "markdown",
   "id": "91aa27a8",
   "metadata": {},
   "source": [
    "Hyperparameters significantly improve performance based on Box plot 1. From the box plot, I observe the highest loss resulting from a hidden layer of 1, a node count of 16, dropout of 0.9, with batch normalization. This may be due to a lack of complexity in the model form the low node and hidden layer counts, and the high dropout may result in less features and so, underfitting because the model has less data to learn from and so, cannot build strong representations of the data. On the other hand, increased hidden layers and nodes decrease loss and increase performance by allowing the model to become more complex and so, to better account for the complexities and patterns in the data. "
   ]
  },
  {
   "cell_type": "markdown",
   "id": "0bd1db71",
   "metadata": {},
   "source": [
    "Yes, the deep learning models improved and outperformed the other linear regression models. After using the optimal hyperparameters, the best model had a minimum loss of 0.023, which was lower than most of the linear regression models. The initial neural network had a loss of 0.6, so there was a significant improvement due to hyperparameter tuning. "
   ]
  }
 ],
 "metadata": {
  "kernelspec": {
   "display_name": "Python 3 (ipykernel)",
   "language": "python",
   "name": "python3"
  },
  "language_info": {
   "codemirror_mode": {
    "name": "ipython",
    "version": 3
   },
   "file_extension": ".py",
   "mimetype": "text/x-python",
   "name": "python",
   "nbconvert_exporter": "python",
   "pygments_lexer": "ipython3",
   "version": "3.9.18"
  }
 },
 "nbformat": 4,
 "nbformat_minor": 5
}
